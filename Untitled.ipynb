{
 "cells": [
  {
   "cell_type": "code",
   "execution_count": 1,
   "metadata": {},
   "outputs": [],
   "source": [
    "\n"
   ]
  },
  {
   "cell_type": "code",
   "execution_count": 11,
   "metadata": {},
   "outputs": [],
   "source": [
    "eq1=sp.Function('eq1')\n",
    "eq2=sp.Function('eq2')\n",
    "x,y=sp.symbols('x y')\n",
    "eq1= Eq(2*x-y,-4)\n",
    "eq2=(3*x-y,-2)"
   ]
  },
  {
   "cell_type": "code",
   "execution_count": 12,
   "metadata": {},
   "outputs": [
    {
     "data": {
      "text/latex": [
       "$$2 x - y = -4$$"
      ],
      "text/plain": [
       "2⋅x - y = -4"
      ]
     },
     "metadata": {},
     "output_type": "display_data"
    },
    {
     "data": {
      "text/latex": [
       "$$\\left ( 3 x - y, \\quad -2\\right )$$"
      ],
      "text/plain": [
       "(3⋅x - y, -2)"
      ]
     },
     "metadata": {},
     "output_type": "display_data"
    }
   ],
   "source": [
    "display(eq1)\n",
    "display(eq2)\n",
    "row1=[2,-1,-4]\n",
    "row2=[3,-1,-2]"
   ]
  },
  {
   "cell_type": "code",
   "execution_count": 13,
   "metadata": {},
   "outputs": [
    {
     "data": {
      "text/latex": [
       "$$\\left[\\begin{matrix}2 & -1 & -4\\\\3 & -1 & -2\\end{matrix}\\right]$$"
      ],
      "text/plain": [
       "⎡2  -1  -4⎤\n",
       "⎢         ⎥\n",
       "⎣3  -1  -2⎦"
      ]
     },
     "metadata": {},
     "output_type": "display_data"
    }
   ],
   "source": [
    "system=Matrix((row1,row2))\n",
    "display(system)"
   ]
  },
  {
   "cell_type": "code",
   "execution_count": 14,
   "metadata": {},
   "outputs": [
    {
     "data": {
      "text/latex": [
       "$$\\left \\{ x : 2, \\quad y : 8\\right \\}$$"
      ],
      "text/plain": [
       "{x: 2, y: 8}"
      ]
     },
     "execution_count": 14,
     "metadata": {},
     "output_type": "execute_result"
    }
   ],
   "source": [
    "solve_linear_system(system,x,y)"
   ]
  },
  {
   "cell_type": "code",
   "execution_count": 17,
   "metadata": {},
   "outputs": [
    {
     "data": {
      "text/plain": [
       "array([2., 8.])"
      ]
     },
     "metadata": {},
     "output_type": "display_data"
    }
   ],
   "source": [
    "nrow1=[2,-1]\n",
    "nrow2=[3,-1]\n",
    "nmat=np.array([nrow1,nrow2])\n",
    "const=np.array([-4,-2])\n",
    "answer=linalg.solve(nmat,const)\n",
    "display(answer)"
   ]
  },
  {
   "cell_type": "code",
   "execution_count": 2,
   "metadata": {},
   "outputs": [],
   "source": [
    "from sympy import *\n",
    "from sympy.interactive import printing\n",
    "printing.init_printing(use_latex=\"mathjax\")\n",
    "from sympy import Eq,solve_linear_system, Matrix,I\n",
    "from numpy import linalg\n",
    "\n",
    "import numpy as np\n",
    "import sympy as sp"
   ]
  },
  {
   "cell_type": "code",
   "execution_count": 3,
   "metadata": {
    "scrolled": true
   },
   "outputs": [
    {
     "data": {
      "text/latex": [
       "$\\displaystyle \\left[\\begin{matrix}x_{13} \\overline{x_{13}} + \\left(1 - \\epsilon\\right)^{2} \\sin^{2}{\\left(\\alpha \\right)} \\cos^{2}{\\left(\\alpha \\right)} + \\left(\\epsilon \\cos^{2}{\\left(\\alpha \\right)} + \\sin^{2}{\\left(\\alpha \\right)}\\right)^{2} & x_{13} \\overline{x_{23}} + \\left(1 - \\epsilon\\right) \\left(\\epsilon \\sin^{2}{\\left(\\alpha \\right)} + \\cos^{2}{\\left(\\alpha \\right)}\\right) \\sin{\\left(\\alpha \\right)} \\cos{\\left(\\alpha \\right)} + \\left(1 - \\epsilon\\right) \\left(\\epsilon \\cos^{2}{\\left(\\alpha \\right)} + \\sin^{2}{\\left(\\alpha \\right)}\\right) \\sin{\\left(\\alpha \\right)} \\cos{\\left(\\alpha \\right)} & x_{13} \\overline{x_{33}} + \\left(1 - \\epsilon\\right) \\sin{\\left(\\alpha \\right)} \\cos{\\left(\\alpha \\right)} \\overline{x_{32}} + \\left(\\epsilon \\cos^{2}{\\left(\\alpha \\right)} + \\sin^{2}{\\left(\\alpha \\right)}\\right) \\overline{x_{31}}\\\\x_{23} \\overline{x_{13}} + \\left(1 - \\epsilon\\right) \\left(\\epsilon \\sin^{2}{\\left(\\alpha \\right)} + \\cos^{2}{\\left(\\alpha \\right)}\\right) \\sin{\\left(\\alpha \\right)} \\cos{\\left(\\alpha \\right)} + \\left(1 - \\epsilon\\right) \\left(\\epsilon \\cos^{2}{\\left(\\alpha \\right)} + \\sin^{2}{\\left(\\alpha \\right)}\\right) \\sin{\\left(\\alpha \\right)} \\cos{\\left(\\alpha \\right)} & x_{23} \\overline{x_{23}} + \\left(1 - \\epsilon\\right)^{2} \\sin^{2}{\\left(\\alpha \\right)} \\cos^{2}{\\left(\\alpha \\right)} + \\left(\\epsilon \\sin^{2}{\\left(\\alpha \\right)} + \\cos^{2}{\\left(\\alpha \\right)}\\right)^{2} & x_{23} \\overline{x_{33}} + \\left(1 - \\epsilon\\right) \\sin{\\left(\\alpha \\right)} \\cos{\\left(\\alpha \\right)} \\overline{x_{31}} + \\left(\\epsilon \\sin^{2}{\\left(\\alpha \\right)} + \\cos^{2}{\\left(\\alpha \\right)}\\right) \\overline{x_{32}}\\\\x_{31} \\left(\\epsilon \\cos^{2}{\\left(\\alpha \\right)} + \\sin^{2}{\\left(\\alpha \\right)}\\right) + x_{32} \\left(1 - \\epsilon\\right) \\sin{\\left(\\alpha \\right)} \\cos{\\left(\\alpha \\right)} + x_{33} \\overline{x_{13}} & x_{31} \\left(1 - \\epsilon\\right) \\sin{\\left(\\alpha \\right)} \\cos{\\left(\\alpha \\right)} + x_{32} \\left(\\epsilon \\sin^{2}{\\left(\\alpha \\right)} + \\cos^{2}{\\left(\\alpha \\right)}\\right) + x_{33} \\overline{x_{23}} & x_{31} \\overline{x_{31}} + x_{32} \\overline{x_{32}} + x_{33} \\overline{x_{33}}\\end{matrix}\\right]$"
      ],
      "text/plain": [
       "⎡                                                                             \n",
       "⎢                        ___          2    2       2      ⎛     2         2   \n",
       "⎢                    x₁₃⋅x₁₃ + (1 - ε) ⋅sin (α)⋅cos (α) + ⎝ε⋅cos (α) + sin (α)\n",
       "⎢                                                                             \n",
       "⎢                                                                             \n",
       "⎢    ___           ⎛     2         2   ⎞                         ⎛     2      \n",
       "⎢x₂₃⋅x₁₃ + (1 - ε)⋅⎝ε⋅sin (α) + cos (α)⎠⋅sin(α)⋅cos(α) + (1 - ε)⋅⎝ε⋅cos (α) + \n",
       "⎢                                                                             \n",
       "⎢                      ⎛     2         2   ⎞                                  \n",
       "⎣                  x₃₁⋅⎝ε⋅cos (α) + sin (α)⎠ + x₃₂⋅(1 - ε)⋅sin(α)⋅cos(α) + x₃₃\n",
       "\n",
       " 2                                                                            \n",
       "⎞                           ___           ⎛     2         2   ⎞               \n",
       "⎠                       x₁₃⋅x₂₃ + (1 - ε)⋅⎝ε⋅sin (α) + cos (α)⎠⋅sin(α)⋅cos(α) \n",
       "                                                                              \n",
       "                                                                              \n",
       "   2   ⎞                                        ___          2    2       2   \n",
       "sin (α)⎠⋅sin(α)⋅cos(α)                      x₂₃⋅x₂₃ + (1 - ε) ⋅sin (α)⋅cos (α)\n",
       "                                                                              \n",
       " ___                                                                      ⎛   \n",
       "⋅x₁₃                                      x₃₁⋅(1 - ε)⋅sin(α)⋅cos(α) + x₃₂⋅⎝ε⋅s\n",
       "\n",
       "                                                                              \n",
       "          ⎛     2         2   ⎞                    ___                        \n",
       "+ (1 - ε)⋅⎝ε⋅cos (α) + sin (α)⎠⋅sin(α)⋅cos(α)  x₁₃⋅x₃₃ + (1 - ε)⋅sin(α)⋅cos(α)\n",
       "                                                                              \n",
       "                        2                                                     \n",
       "   ⎛     2         2   ⎞                           ___                        \n",
       " + ⎝ε⋅sin (α) + cos (α)⎠                       x₂₃⋅x₃₃ + (1 - ε)⋅sin(α)⋅cos(α)\n",
       "                                                                              \n",
       "  2         2   ⎞       ___                                          ___      \n",
       "in (α) + cos (α)⎠ + x₃₃⋅x₂₃                                      x₃₁⋅x₃₁ + x₃₂\n",
       "\n",
       "                                ⎤\n",
       " ___   ⎛     2         2   ⎞ ___⎥\n",
       "⋅x₃₂ + ⎝ε⋅cos (α) + sin (α)⎠⋅x₃₁⎥\n",
       "                                ⎥\n",
       "                                ⎥\n",
       " ___   ⎛     2         2   ⎞ ___⎥\n",
       "⋅x₃₁ + ⎝ε⋅sin (α) + cos (α)⎠⋅x₃₂⎥\n",
       "                                ⎥\n",
       " ___       ___                  ⎥\n",
       "⋅x₃₂ + x₃₃⋅x₃₃                  ⎦"
      ]
     },
     "metadata": {},
     "output_type": "display_data"
    },
    {
     "data": {
      "text/latex": [
       "$\\displaystyle \\left[\\begin{matrix}x_{31} \\overline{x_{31}} + \\left(1 - \\epsilon\\right)^{2} \\sin^{2}{\\left(\\alpha \\right)} \\cos^{2}{\\left(\\alpha \\right)} + \\left(\\epsilon \\cos^{2}{\\left(\\alpha \\right)} + \\sin^{2}{\\left(\\alpha \\right)}\\right)^{2} & x_{32} \\overline{x_{31}} + \\left(1 - \\epsilon\\right) \\left(\\epsilon \\sin^{2}{\\left(\\alpha \\right)} + \\cos^{2}{\\left(\\alpha \\right)}\\right) \\sin{\\left(\\alpha \\right)} \\cos{\\left(\\alpha \\right)} + \\left(1 - \\epsilon\\right) \\left(\\epsilon \\cos^{2}{\\left(\\alpha \\right)} + \\sin^{2}{\\left(\\alpha \\right)}\\right) \\sin{\\left(\\alpha \\right)} \\cos{\\left(\\alpha \\right)} & x_{13} \\left(\\epsilon \\cos^{2}{\\left(\\alpha \\right)} + \\sin^{2}{\\left(\\alpha \\right)}\\right) + x_{23} \\left(1 - \\epsilon\\right) \\sin{\\left(\\alpha \\right)} \\cos{\\left(\\alpha \\right)} + x_{33} \\overline{x_{31}}\\\\x_{31} \\overline{x_{32}} + \\left(1 - \\epsilon\\right) \\left(\\epsilon \\sin^{2}{\\left(\\alpha \\right)} + \\cos^{2}{\\left(\\alpha \\right)}\\right) \\sin{\\left(\\alpha \\right)} \\cos{\\left(\\alpha \\right)} + \\left(1 - \\epsilon\\right) \\left(\\epsilon \\cos^{2}{\\left(\\alpha \\right)} + \\sin^{2}{\\left(\\alpha \\right)}\\right) \\sin{\\left(\\alpha \\right)} \\cos{\\left(\\alpha \\right)} & x_{32} \\overline{x_{32}} + \\left(1 - \\epsilon\\right)^{2} \\sin^{2}{\\left(\\alpha \\right)} \\cos^{2}{\\left(\\alpha \\right)} + \\left(\\epsilon \\sin^{2}{\\left(\\alpha \\right)} + \\cos^{2}{\\left(\\alpha \\right)}\\right)^{2} & x_{13} \\left(1 - \\epsilon\\right) \\sin{\\left(\\alpha \\right)} \\cos{\\left(\\alpha \\right)} + x_{23} \\left(\\epsilon \\sin^{2}{\\left(\\alpha \\right)} + \\cos^{2}{\\left(\\alpha \\right)}\\right) + x_{33} \\overline{x_{32}}\\\\x_{31} \\overline{x_{33}} + \\left(1 - \\epsilon\\right) \\sin{\\left(\\alpha \\right)} \\cos{\\left(\\alpha \\right)} \\overline{x_{23}} + \\left(\\epsilon \\cos^{2}{\\left(\\alpha \\right)} + \\sin^{2}{\\left(\\alpha \\right)}\\right) \\overline{x_{13}} & x_{32} \\overline{x_{33}} + \\left(1 - \\epsilon\\right) \\sin{\\left(\\alpha \\right)} \\cos{\\left(\\alpha \\right)} \\overline{x_{13}} + \\left(\\epsilon \\sin^{2}{\\left(\\alpha \\right)} + \\cos^{2}{\\left(\\alpha \\right)}\\right) \\overline{x_{23}} & x_{13} \\overline{x_{13}} + x_{23} \\overline{x_{23}} + x_{33} \\overline{x_{33}}\\end{matrix}\\right]$"
      ],
      "text/plain": [
       "⎡                                                                             \n",
       "⎢                        ___          2    2       2      ⎛     2         2   \n",
       "⎢                    x₃₁⋅x₃₁ + (1 - ε) ⋅sin (α)⋅cos (α) + ⎝ε⋅cos (α) + sin (α)\n",
       "⎢                                                                             \n",
       "⎢                                                                             \n",
       "⎢    ___           ⎛     2         2   ⎞                         ⎛     2      \n",
       "⎢x₃₁⋅x₃₂ + (1 - ε)⋅⎝ε⋅sin (α) + cos (α)⎠⋅sin(α)⋅cos(α) + (1 - ε)⋅⎝ε⋅cos (α) + \n",
       "⎢                                                                             \n",
       "⎢                      ___                         ___   ⎛     2         2   ⎞\n",
       "⎣                  x₃₁⋅x₃₃ + (1 - ε)⋅sin(α)⋅cos(α)⋅x₂₃ + ⎝ε⋅cos (α) + sin (α)⎠\n",
       "\n",
       " 2                                                                            \n",
       "⎞                           ___           ⎛     2         2   ⎞               \n",
       "⎠                       x₃₂⋅x₃₁ + (1 - ε)⋅⎝ε⋅sin (α) + cos (α)⎠⋅sin(α)⋅cos(α) \n",
       "                                                                              \n",
       "                                                                              \n",
       "   2   ⎞                                        ___          2    2       2   \n",
       "sin (α)⎠⋅sin(α)⋅cos(α)                      x₃₂⋅x₃₂ + (1 - ε) ⋅sin (α)⋅cos (α)\n",
       "                                                                              \n",
       " ___                                          ___                         ___ \n",
       "⋅x₁₃                                      x₃₂⋅x₃₃ + (1 - ε)⋅sin(α)⋅cos(α)⋅x₁₃ \n",
       "\n",
       "                                                                              \n",
       "          ⎛     2         2   ⎞                    ⎛     2         2   ⎞      \n",
       "+ (1 - ε)⋅⎝ε⋅cos (α) + sin (α)⎠⋅sin(α)⋅cos(α)  x₁₃⋅⎝ε⋅cos (α) + sin (α)⎠ + x₂₃\n",
       "                                                                              \n",
       "                        2                                                     \n",
       "   ⎛     2         2   ⎞                                                      \n",
       " + ⎝ε⋅sin (α) + cos (α)⎠                       x₁₃⋅(1 - ε)⋅sin(α)⋅cos(α) + x₂₃\n",
       "                                                                              \n",
       "  ⎛     2         2   ⎞ ___                                          ___      \n",
       "+ ⎝ε⋅sin (α) + cos (α)⎠⋅x₂₃                                      x₁₃⋅x₁₃ + x₂₃\n",
       "\n",
       "                                ⎤\n",
       "                             ___⎥\n",
       "⋅(1 - ε)⋅sin(α)⋅cos(α) + x₃₃⋅x₃₁⎥\n",
       "                                ⎥\n",
       "                                ⎥\n",
       " ⎛     2         2   ⎞       ___⎥\n",
       "⋅⎝ε⋅sin (α) + cos (α)⎠ + x₃₃⋅x₃₂⎥\n",
       "                                ⎥\n",
       " ___       ___                  ⎥\n",
       "⋅x₂₃ + x₃₃⋅x₃₃                  ⎦"
      ]
     },
     "metadata": {},
     "output_type": "display_data"
    },
    {
     "data": {
      "text/latex": [
       "$\\displaystyle \\left[\\begin{matrix}\\epsilon^{2} \\sin^{2}{\\left(\\alpha \\right)} \\cos^{2}{\\left(\\alpha \\right)} + x_{13} \\overline{x_{13}} + \\left(\\left(1 - \\epsilon\\right) \\cos^{2}{\\left(\\alpha \\right)} + \\sin^{2}{\\left(\\alpha \\right)}\\right)^{2} & \\epsilon \\left(\\left(1 - \\epsilon\\right) \\sin^{2}{\\left(\\alpha \\right)} + \\cos^{2}{\\left(\\alpha \\right)}\\right) \\sin{\\left(\\alpha \\right)} \\cos{\\left(\\alpha \\right)} + \\epsilon \\left(\\left(1 - \\epsilon\\right) \\cos^{2}{\\left(\\alpha \\right)} + \\sin^{2}{\\left(\\alpha \\right)}\\right) \\sin{\\left(\\alpha \\right)} \\cos{\\left(\\alpha \\right)} + x_{13} \\overline{x_{23}} & \\epsilon \\sin{\\left(\\alpha \\right)} \\cos{\\left(\\alpha \\right)} \\overline{x_{32}} + x_{13} \\overline{x_{33}} + \\left(\\left(1 - \\epsilon\\right) \\cos^{2}{\\left(\\alpha \\right)} + \\sin^{2}{\\left(\\alpha \\right)}\\right) \\overline{x_{31}}\\\\\\epsilon \\left(\\left(1 - \\epsilon\\right) \\sin^{2}{\\left(\\alpha \\right)} + \\cos^{2}{\\left(\\alpha \\right)}\\right) \\sin{\\left(\\alpha \\right)} \\cos{\\left(\\alpha \\right)} + \\epsilon \\left(\\left(1 - \\epsilon\\right) \\cos^{2}{\\left(\\alpha \\right)} + \\sin^{2}{\\left(\\alpha \\right)}\\right) \\sin{\\left(\\alpha \\right)} \\cos{\\left(\\alpha \\right)} + x_{23} \\overline{x_{13}} & \\epsilon^{2} \\sin^{2}{\\left(\\alpha \\right)} \\cos^{2}{\\left(\\alpha \\right)} + x_{23} \\overline{x_{23}} + \\left(\\left(1 - \\epsilon\\right) \\sin^{2}{\\left(\\alpha \\right)} + \\cos^{2}{\\left(\\alpha \\right)}\\right)^{2} & \\epsilon \\sin{\\left(\\alpha \\right)} \\cos{\\left(\\alpha \\right)} \\overline{x_{31}} + x_{23} \\overline{x_{33}} + \\left(\\left(1 - \\epsilon\\right) \\sin^{2}{\\left(\\alpha \\right)} + \\cos^{2}{\\left(\\alpha \\right)}\\right) \\overline{x_{32}}\\\\\\epsilon x_{32} \\sin{\\left(\\alpha \\right)} \\cos{\\left(\\alpha \\right)} + x_{31} \\left(\\left(1 - \\epsilon\\right) \\cos^{2}{\\left(\\alpha \\right)} + \\sin^{2}{\\left(\\alpha \\right)}\\right) + x_{33} \\overline{x_{13}} & \\epsilon x_{31} \\sin{\\left(\\alpha \\right)} \\cos{\\left(\\alpha \\right)} + x_{32} \\left(\\left(1 - \\epsilon\\right) \\sin^{2}{\\left(\\alpha \\right)} + \\cos^{2}{\\left(\\alpha \\right)}\\right) + x_{33} \\overline{x_{23}} & x_{31} \\overline{x_{31}} + x_{32} \\overline{x_{32}} + x_{33} \\overline{x_{33}}\\end{matrix}\\right]$"
      ],
      "text/plain": [
       "⎡                                                                             \n",
       "⎢                     2    2       2          ___   ⎛           2         2   \n",
       "⎢                    ε ⋅sin (α)⋅cos (α) + x₁₃⋅x₁₃ + ⎝(1 - ε)⋅cos (α) + sin (α)\n",
       "⎢                                                                             \n",
       "⎢                                                                             \n",
       "⎢  ⎛           2         2   ⎞                   ⎛           2         2   ⎞  \n",
       "⎢ε⋅⎝(1 - ε)⋅sin (α) + cos (α)⎠⋅sin(α)⋅cos(α) + ε⋅⎝(1 - ε)⋅cos (α) + sin (α)⎠⋅s\n",
       "⎢                                                                             \n",
       "⎢                                            ⎛           2         2   ⎞      \n",
       "⎣                  ε⋅x₃₂⋅sin(α)⋅cos(α) + x₃₁⋅⎝(1 - ε)⋅cos (α) + sin (α)⎠ + x₃₃\n",
       "\n",
       " 2                                                                            \n",
       "⎞                         ⎛           2         2   ⎞                   ⎛     \n",
       "⎠                       ε⋅⎝(1 - ε)⋅sin (α) + cos (α)⎠⋅sin(α)⋅cos(α) + ε⋅⎝(1 - \n",
       "                                                                              \n",
       "                                                                              \n",
       "                   ___                       2    2       2          ___   ⎛  \n",
       "in(α)⋅cos(α) + x₂₃⋅x₁₃                      ε ⋅sin (α)⋅cos (α) + x₂₃⋅x₂₃ + ⎝(1\n",
       "                                                                              \n",
       " ___                                                                ⎛         \n",
       "⋅x₁₃                                      ε⋅x₃₁⋅sin(α)⋅cos(α) + x₃₂⋅⎝(1 - ε)⋅s\n",
       "\n",
       "                                                                              \n",
       "      2         2   ⎞                     ___                  ___       ___  \n",
       "ε)⋅cos (α) + sin (α)⎠⋅sin(α)⋅cos(α) + x₁₃⋅x₂₃  ε⋅sin(α)⋅cos(α)⋅x₃₂ + x₁₃⋅x₃₃ +\n",
       "                                                                              \n",
       "                        2                                                     \n",
       "         2         2   ⎞                                       ___       ___  \n",
       " - ε)⋅sin (α) + cos (α)⎠                       ε⋅sin(α)⋅cos(α)⋅x₃₁ + x₂₃⋅x₃₃ +\n",
       "                                                                              \n",
       "  2         2   ⎞       ___                                          ___      \n",
       "in (α) + cos (α)⎠ + x₃₃⋅x₂₃                                      x₃₁⋅x₃₁ + x₃₂\n",
       "\n",
       "                                ⎤\n",
       " ⎛           2         2   ⎞ ___⎥\n",
       " ⎝(1 - ε)⋅cos (α) + sin (α)⎠⋅x₃₁⎥\n",
       "                                ⎥\n",
       "                                ⎥\n",
       " ⎛           2         2   ⎞ ___⎥\n",
       " ⎝(1 - ε)⋅sin (α) + cos (α)⎠⋅x₃₂⎥\n",
       "                                ⎥\n",
       " ___       ___                  ⎥\n",
       "⋅x₃₂ + x₃₃⋅x₃₃                  ⎦"
      ]
     },
     "metadata": {},
     "output_type": "display_data"
    },
    {
     "data": {
      "text/latex": [
       "$\\displaystyle \\left[\\begin{matrix}\\epsilon^{2} \\sin^{2}{\\left(\\alpha \\right)} \\cos^{2}{\\left(\\alpha \\right)} + x_{31} \\overline{x_{31}} + \\left(\\left(1 - \\epsilon\\right) \\cos^{2}{\\left(\\alpha \\right)} + \\sin^{2}{\\left(\\alpha \\right)}\\right)^{2} & \\epsilon \\left(\\left(1 - \\epsilon\\right) \\sin^{2}{\\left(\\alpha \\right)} + \\cos^{2}{\\left(\\alpha \\right)}\\right) \\sin{\\left(\\alpha \\right)} \\cos{\\left(\\alpha \\right)} + \\epsilon \\left(\\left(1 - \\epsilon\\right) \\cos^{2}{\\left(\\alpha \\right)} + \\sin^{2}{\\left(\\alpha \\right)}\\right) \\sin{\\left(\\alpha \\right)} \\cos{\\left(\\alpha \\right)} + x_{32} \\overline{x_{31}} & \\epsilon x_{23} \\sin{\\left(\\alpha \\right)} \\cos{\\left(\\alpha \\right)} + x_{13} \\left(\\left(1 - \\epsilon\\right) \\cos^{2}{\\left(\\alpha \\right)} + \\sin^{2}{\\left(\\alpha \\right)}\\right) + x_{33} \\overline{x_{31}}\\\\\\epsilon \\left(\\left(1 - \\epsilon\\right) \\sin^{2}{\\left(\\alpha \\right)} + \\cos^{2}{\\left(\\alpha \\right)}\\right) \\sin{\\left(\\alpha \\right)} \\cos{\\left(\\alpha \\right)} + \\epsilon \\left(\\left(1 - \\epsilon\\right) \\cos^{2}{\\left(\\alpha \\right)} + \\sin^{2}{\\left(\\alpha \\right)}\\right) \\sin{\\left(\\alpha \\right)} \\cos{\\left(\\alpha \\right)} + x_{31} \\overline{x_{32}} & \\epsilon^{2} \\sin^{2}{\\left(\\alpha \\right)} \\cos^{2}{\\left(\\alpha \\right)} + x_{32} \\overline{x_{32}} + \\left(\\left(1 - \\epsilon\\right) \\sin^{2}{\\left(\\alpha \\right)} + \\cos^{2}{\\left(\\alpha \\right)}\\right)^{2} & \\epsilon x_{13} \\sin{\\left(\\alpha \\right)} \\cos{\\left(\\alpha \\right)} + x_{23} \\left(\\left(1 - \\epsilon\\right) \\sin^{2}{\\left(\\alpha \\right)} + \\cos^{2}{\\left(\\alpha \\right)}\\right) + x_{33} \\overline{x_{32}}\\\\\\epsilon \\sin{\\left(\\alpha \\right)} \\cos{\\left(\\alpha \\right)} \\overline{x_{23}} + x_{31} \\overline{x_{33}} + \\left(\\left(1 - \\epsilon\\right) \\cos^{2}{\\left(\\alpha \\right)} + \\sin^{2}{\\left(\\alpha \\right)}\\right) \\overline{x_{13}} & \\epsilon \\sin{\\left(\\alpha \\right)} \\cos{\\left(\\alpha \\right)} \\overline{x_{13}} + x_{32} \\overline{x_{33}} + \\left(\\left(1 - \\epsilon\\right) \\sin^{2}{\\left(\\alpha \\right)} + \\cos^{2}{\\left(\\alpha \\right)}\\right) \\overline{x_{23}} & x_{13} \\overline{x_{13}} + x_{23} \\overline{x_{23}} + x_{33} \\overline{x_{33}}\\end{matrix}\\right]$"
      ],
      "text/plain": [
       "⎡                                                                             \n",
       "⎢                     2    2       2          ___   ⎛           2         2   \n",
       "⎢                    ε ⋅sin (α)⋅cos (α) + x₃₁⋅x₃₁ + ⎝(1 - ε)⋅cos (α) + sin (α)\n",
       "⎢                                                                             \n",
       "⎢                                                                             \n",
       "⎢  ⎛           2         2   ⎞                   ⎛           2         2   ⎞  \n",
       "⎢ε⋅⎝(1 - ε)⋅sin (α) + cos (α)⎠⋅sin(α)⋅cos(α) + ε⋅⎝(1 - ε)⋅cos (α) + sin (α)⎠⋅s\n",
       "⎢                                                                             \n",
       "⎢                                  ___       ___   ⎛           2         2   ⎞\n",
       "⎣                  ε⋅sin(α)⋅cos(α)⋅x₂₃ + x₃₁⋅x₃₃ + ⎝(1 - ε)⋅cos (α) + sin (α)⎠\n",
       "\n",
       " 2                                                                            \n",
       "⎞                         ⎛           2         2   ⎞                   ⎛     \n",
       "⎠                       ε⋅⎝(1 - ε)⋅sin (α) + cos (α)⎠⋅sin(α)⋅cos(α) + ε⋅⎝(1 - \n",
       "                                                                              \n",
       "                                                                              \n",
       "                   ___                       2    2       2          ___   ⎛  \n",
       "in(α)⋅cos(α) + x₃₁⋅x₃₂                      ε ⋅sin (α)⋅cos (α) + x₃₂⋅x₃₂ + ⎝(1\n",
       "                                                                              \n",
       " ___                                                      ___       ___   ⎛   \n",
       "⋅x₁₃                                      ε⋅sin(α)⋅cos(α)⋅x₁₃ + x₃₂⋅x₃₃ + ⎝(1 \n",
       "\n",
       "                                                                              \n",
       "      2         2   ⎞                     ___                            ⎛    \n",
       "ε)⋅cos (α) + sin (α)⎠⋅sin(α)⋅cos(α) + x₃₂⋅x₃₁  ε⋅x₂₃⋅sin(α)⋅cos(α) + x₁₃⋅⎝(1 -\n",
       "                                                                              \n",
       "                        2                                                     \n",
       "         2         2   ⎞                                                 ⎛    \n",
       " - ε)⋅sin (α) + cos (α)⎠                       ε⋅x₁₃⋅sin(α)⋅cos(α) + x₂₃⋅⎝(1 -\n",
       "                                                                              \n",
       "        2         2   ⎞ ___                                          ___      \n",
       "- ε)⋅sin (α) + cos (α)⎠⋅x₂₃                                      x₁₃⋅x₁₃ + x₂₃\n",
       "\n",
       "                                ⎤\n",
       "       2         2   ⎞       ___⎥\n",
       " ε)⋅cos (α) + sin (α)⎠ + x₃₃⋅x₃₁⎥\n",
       "                                ⎥\n",
       "                                ⎥\n",
       "       2         2   ⎞       ___⎥\n",
       " ε)⋅sin (α) + cos (α)⎠ + x₃₃⋅x₃₂⎥\n",
       "                                ⎥\n",
       " ___       ___                  ⎥\n",
       "⋅x₂₃ + x₃₃⋅x₃₃                  ⎦"
      ]
     },
     "metadata": {},
     "output_type": "display_data"
    }
   ],
   "source": [
    "x_13,x_23, x_31,x_32,x_33=symbols('x13 x23 x31 x32 x33')\n",
    "a,e=symbols('alpha epsilon', real=True)\n",
    "r1=[sin(a)**2+e*cos(a)**2,(1-e)*cos(a)*sin(a),x_13]\n",
    "r2=[(1-e)*cos(a)*sin(a),e*sin(a)**2+cos(a)**2,x_23]\n",
    "r3=[x_31,x_32,x_33]\n",
    "U=(Matrix([r1,r2,r3]))\n",
    "U_adj=adjoint(U)\n",
    "U_1=U*U_adj\n",
    "U_2=U_adj*U\n",
    "display(U_1)\n",
    "display(U_2)\n",
    "display(U_1.subs(e,1-e))\n",
    "display(U_2.subs(e,1-e))\n"
   ]
  },
  {
   "cell_type": "code",
   "execution_count": 38,
   "metadata": {
    "scrolled": false
   },
   "outputs": [
    {
     "data": {
      "text/latex": [
       "$$\\left[\\begin{matrix}\\epsilon \\cos^{2}{\\left (\\alpha \\right )} + \\sin^{2}{\\left (\\alpha \\right )} & \\left(- \\epsilon + 1\\right) \\sin{\\left (\\alpha \\right )} \\cos{\\left (\\alpha \\right )} & x_{13}\\\\\\left(- \\epsilon + 1\\right) \\sin{\\left (\\alpha \\right )} \\cos{\\left (\\alpha \\right )} & \\epsilon \\sin^{2}{\\left (\\alpha \\right )} + \\cos^{2}{\\left (\\alpha \\right )} & x_{23}\\\\x_{31} & x_{32} & x_{33}\\end{matrix}\\right]$$"
      ],
      "text/plain": [
       "⎡      2         2                                  ⎤\n",
       "⎢ ε⋅cos (α) + sin (α)    (-ε + 1)⋅sin(α)⋅cos(α)  x₁₃⎥\n",
       "⎢                                                   ⎥\n",
       "⎢                              2         2          ⎥\n",
       "⎢(-ε + 1)⋅sin(α)⋅cos(α)   ε⋅sin (α) + cos (α)    x₂₃⎥\n",
       "⎢                                                   ⎥\n",
       "⎣         x₃₁                     x₃₂            x₃₃⎦"
      ]
     },
     "metadata": {},
     "output_type": "display_data"
    },
    {
     "data": {
      "text/latex": [
       "$$\\left[\\begin{matrix}\\epsilon \\cos^{2}{\\left (\\alpha \\right )} + \\sin^{2}{\\left (\\alpha \\right )} & \\left(- \\epsilon + 1\\right) \\sin{\\left (\\alpha \\right )} \\cos{\\left (\\alpha \\right )} & \\overline{x_{31}}\\\\\\left(- \\epsilon + 1\\right) \\sin{\\left (\\alpha \\right )} \\cos{\\left (\\alpha \\right )} & \\epsilon \\sin^{2}{\\left (\\alpha \\right )} + \\cos^{2}{\\left (\\alpha \\right )} & \\overline{x_{32}}\\\\\\overline{x_{13}} & \\overline{x_{23}} & \\overline{x_{33}}\\end{matrix}\\right]$$"
      ],
      "text/plain": [
       "⎡      2         2                               ___⎤\n",
       "⎢ ε⋅cos (α) + sin (α)    (-ε + 1)⋅sin(α)⋅cos(α)  x₃₁⎥\n",
       "⎢                                                   ⎥\n",
       "⎢                              2         2       ___⎥\n",
       "⎢(-ε + 1)⋅sin(α)⋅cos(α)   ε⋅sin (α) + cos (α)    x₃₂⎥\n",
       "⎢                                                   ⎥\n",
       "⎢         ___                     ___            ___⎥\n",
       "⎣         x₁₃                     x₂₃            x₃₃⎦"
      ]
     },
     "metadata": {},
     "output_type": "display_data"
    }
   ],
   "source": [
    "display(U)\n",
    "display(adjoint(U))\n"
   ]
  },
  {
   "cell_type": "code",
   "execution_count": 40,
   "metadata": {},
   "outputs": [
    {
     "data": {
      "text/latex": [
       "$$\\left[\\begin{matrix}\\epsilon^{2} \\cos^{2}{\\left (\\alpha \\right )} + x_{13} \\overline{x_{13}} - \\cos^{2}{\\left (\\alpha \\right )} + 1 & - \\frac{\\epsilon^{2} \\sin{\\left (2 \\alpha \\right )}}{2} + x_{13} \\overline{x_{23}} + \\frac{\\sin{\\left (2 \\alpha \\right )}}{2} & x_{13} \\overline{x_{33}} - \\frac{\\left(\\epsilon - 1\\right) \\sin{\\left (2 \\alpha \\right )} \\overline{x_{32}}}{2} + \\left(\\epsilon \\cos^{2}{\\left (\\alpha \\right )} + \\sin^{2}{\\left (\\alpha \\right )}\\right) \\overline{x_{31}}\\\\- \\frac{\\epsilon^{2} \\sin{\\left (2 \\alpha \\right )}}{2} + x_{23} \\overline{x_{13}} + \\frac{\\sin{\\left (2 \\alpha \\right )}}{2} & \\epsilon^{2} \\sin^{2}{\\left (\\alpha \\right )} + x_{23} \\overline{x_{23}} - \\sin^{2}{\\left (\\alpha \\right )} + 1 & x_{23} \\overline{x_{33}} - \\frac{\\left(\\epsilon - 1\\right) \\sin{\\left (2 \\alpha \\right )} \\overline{x_{31}}}{2} + \\left(\\epsilon \\sin^{2}{\\left (\\alpha \\right )} + \\cos^{2}{\\left (\\alpha \\right )}\\right) \\overline{x_{32}}\\\\x_{31} \\left(\\epsilon \\cos^{2}{\\left (\\alpha \\right )} + \\sin^{2}{\\left (\\alpha \\right )}\\right) - \\frac{x_{32} \\left(\\epsilon - 1\\right) \\sin{\\left (2 \\alpha \\right )}}{2} + x_{33} \\overline{x_{13}} & - \\frac{x_{31} \\left(\\epsilon - 1\\right) \\sin{\\left (2 \\alpha \\right )}}{2} + x_{32} \\left(\\epsilon \\sin^{2}{\\left (\\alpha \\right )} + \\cos^{2}{\\left (\\alpha \\right )}\\right) + x_{33} \\overline{x_{23}} & x_{31} \\overline{x_{31}} + x_{32} \\overline{x_{32}} + x_{33} \\overline{x_{33}}\\end{matrix}\\right]$$"
      ],
      "text/plain": [
       "⎡                                                                            2\n",
       "⎢             2    2          ___      2                                    ε \n",
       "⎢            ε ⋅cos (α) + x₁₃⋅x₁₃ - cos (α) + 1                           - ──\n",
       "⎢                                                                             \n",
       "⎢                                                                             \n",
       "⎢               2                                                             \n",
       "⎢              ε ⋅sin(2⋅α)       ___   sin(2⋅α)                            2  \n",
       "⎢            - ─────────── + x₂₃⋅x₁₃ + ────────                           ε ⋅s\n",
       "⎢                   2                     2                                   \n",
       "⎢                                                                             \n",
       "⎢    ⎛     2         2   ⎞   x₃₂⋅(ε - 1)⋅sin(2⋅α)       ___    x₃₁⋅(ε - 1)⋅sin\n",
       "⎢x₃₁⋅⎝ε⋅cos (α) + sin (α)⎠ - ──────────────────── + x₃₃⋅x₁₃  - ───────────────\n",
       "⎣                                     2                                 2     \n",
       "\n",
       "                                                                        ___   \n",
       "⋅sin(2⋅α)       ___   sin(2⋅α)                   ___   (ε - 1)⋅sin(2⋅α)⋅x₃₂   \n",
       "───────── + x₁₃⋅x₂₃ + ────────               x₁₃⋅x₃₃ - ──────────────────── + \n",
       "   2                     2                                      2             \n",
       "                                                                              \n",
       "                                                                        ___   \n",
       "  2          ___      2                          ___   (ε - 1)⋅sin(2⋅α)⋅x₃₁   \n",
       "in (α) + x₂₃⋅x₂₃ - sin (α) + 1               x₂₃⋅x₃₃ - ──────────────────── + \n",
       "                                                                2             \n",
       "                                                                              \n",
       "(2⋅α)       ⎛     2         2   ⎞       ___                     ___       ___ \n",
       "───── + x₃₂⋅⎝ε⋅sin (α) + cos (α)⎠ + x₃₃⋅x₂₃                 x₃₁⋅x₃₁ + x₃₂⋅x₃₂ \n",
       "                                                                              \n",
       "\n",
       "                         ⎤\n",
       "⎛     2         2   ⎞ ___⎥\n",
       "⎝ε⋅cos (α) + sin (α)⎠⋅x₃₁⎥\n",
       "                         ⎥\n",
       "                         ⎥\n",
       "                         ⎥\n",
       "⎛     2         2   ⎞ ___⎥\n",
       "⎝ε⋅sin (α) + cos (α)⎠⋅x₃₂⎥\n",
       "                         ⎥\n",
       "                         ⎥\n",
       "      ___                ⎥\n",
       "+ x₃₃⋅x₃₃                ⎥\n",
       "                         ⎦"
      ]
     },
     "metadata": {},
     "output_type": "display_data"
    }
   ],
   "source": [
    "display(simplify(U*adjoint(U)))"
   ]
  },
  {
   "cell_type": "code",
   "execution_count": 46,
   "metadata": {},
   "outputs": [
    {
     "data": {
      "text/latex": [
       "$$x_{31} \\left(\\epsilon \\cos^{2}{\\left (\\alpha \\right )} + \\sin^{2}{\\left (\\alpha \\right )}\\right) - \\frac{x_{32} \\left(\\epsilon - 1\\right) \\sin{\\left (2 \\alpha \\right )}}{2} + x_{33} \\overline{x_{13}}$$"
      ],
      "text/plain": [
       "    ⎛     2         2   ⎞   x₃₂⋅(ε - 1)⋅sin(2⋅α)       ___\n",
       "x₃₁⋅⎝ε⋅cos (α) + sin (α)⎠ - ──────────────────── + x₃₃⋅x₁₃\n",
       "                                     2                    "
      ]
     },
     "execution_count": 46,
     "metadata": {},
     "output_type": "execute_result"
    }
   ],
   "source": [
    "simplify((U*adjoint(U))[2,0])"
   ]
  },
  {
   "cell_type": "code",
   "execution_count": 57,
   "metadata": {},
   "outputs": [
    {
     "data": {
      "text/latex": [
       "$$\\left[\\begin{matrix}\\epsilon^{2} \\cos^{2}{\\left (\\alpha \\right )} + x_{31} \\overline{x_{31}} - \\cos^{2}{\\left (\\alpha \\right )} + 1 & - \\frac{\\epsilon^{2} \\sin{\\left (2 \\alpha \\right )}}{2} + x_{32} \\overline{x_{31}} + \\frac{\\sin{\\left (2 \\alpha \\right )}}{2} & x_{13} \\left(\\epsilon \\cos^{2}{\\left (\\alpha \\right )} + \\sin^{2}{\\left (\\alpha \\right )}\\right) - \\frac{x_{23} \\left(\\epsilon - 1\\right) \\sin{\\left (2 \\alpha \\right )}}{2} + x_{33} \\overline{x_{31}}\\\\- \\frac{\\epsilon^{2} \\sin{\\left (2 \\alpha \\right )}}{2} + x_{31} \\overline{x_{32}} + \\frac{\\sin{\\left (2 \\alpha \\right )}}{2} & \\epsilon^{2} \\sin^{2}{\\left (\\alpha \\right )} + x_{32} \\overline{x_{32}} - \\sin^{2}{\\left (\\alpha \\right )} + 1 & - \\frac{x_{13} \\left(\\epsilon - 1\\right) \\sin{\\left (2 \\alpha \\right )}}{2} + x_{23} \\left(\\epsilon \\sin^{2}{\\left (\\alpha \\right )} + \\cos^{2}{\\left (\\alpha \\right )}\\right) + x_{33} \\overline{x_{32}}\\\\x_{31} \\overline{x_{33}} - \\frac{\\left(\\epsilon - 1\\right) \\sin{\\left (2 \\alpha \\right )} \\overline{x_{23}}}{2} + \\left(\\epsilon \\cos^{2}{\\left (\\alpha \\right )} + \\sin^{2}{\\left (\\alpha \\right )}\\right) \\overline{x_{13}} & x_{32} \\overline{x_{33}} - \\frac{\\left(\\epsilon - 1\\right) \\sin{\\left (2 \\alpha \\right )} \\overline{x_{13}}}{2} + \\left(\\epsilon \\sin^{2}{\\left (\\alpha \\right )} + \\cos^{2}{\\left (\\alpha \\right )}\\right) \\overline{x_{23}} & x_{13} \\overline{x_{13}} + x_{23} \\overline{x_{23}} + x_{33} \\overline{x_{33}}\\end{matrix}\\right]$$"
      ],
      "text/plain": [
       "⎡                                                                           2 \n",
       "⎢             2    2          ___      2                                   ε ⋅\n",
       "⎢            ε ⋅cos (α) + x₃₁⋅x₃₁ - cos (α) + 1                          - ───\n",
       "⎢                                                                             \n",
       "⎢                                                                             \n",
       "⎢               2                                                             \n",
       "⎢              ε ⋅sin(2⋅α)       ___   sin(2⋅α)                           2   \n",
       "⎢            - ─────────── + x₃₁⋅x₃₂ + ────────                          ε ⋅si\n",
       "⎢                   2                     2                                   \n",
       "⎢                                                                             \n",
       "⎢                           ___                                               \n",
       "⎢    ___   (ε - 1)⋅sin(2⋅α)⋅x₂₃   ⎛     2         2   ⎞ ___      ___   (ε - 1)\n",
       "⎢x₃₁⋅x₃₃ - ──────────────────── + ⎝ε⋅cos (α) + sin (α)⎠⋅x₁₃  x₃₂⋅x₃₃ - ───────\n",
       "⎣                   2                                                         \n",
       "\n",
       "                                                                              \n",
       "sin(2⋅α)       ___   sin(2⋅α)                   ⎛     2         2   ⎞   x₂₃⋅(ε\n",
       "──────── + x₃₂⋅x₃₁ + ────────               x₁₃⋅⎝ε⋅cos (α) + sin (α)⎠ - ──────\n",
       "  2                     2                                                     \n",
       "                                                                              \n",
       "                                                                              \n",
       " 2          ___      2                       x₁₃⋅(ε - 1)⋅sin(2⋅α)       ⎛     \n",
       "n (α) + x₃₂⋅x₃₂ - sin (α) + 1              - ──────────────────── + x₂₃⋅⎝ε⋅sin\n",
       "                                                      2                       \n",
       "                                                                              \n",
       "          ___                                                                 \n",
       "⋅sin(2⋅α)⋅x₁₃   ⎛     2         2   ⎞ ___                      ___       ___  \n",
       "───────────── + ⎝ε⋅sin (α) + cos (α)⎠⋅x₂₃                  x₁₃⋅x₁₃ + x₂₃⋅x₂₃ +\n",
       "  2                                                                           \n",
       "\n",
       "                         ⎤\n",
       " - 1)⋅sin(2⋅α)       ___ ⎥\n",
       "────────────── + x₃₃⋅x₃₁ ⎥\n",
       "   2                     ⎥\n",
       "                         ⎥\n",
       "                         ⎥\n",
       "2         2   ⎞       ___⎥\n",
       " (α) + cos (α)⎠ + x₃₃⋅x₃₂⎥\n",
       "                         ⎥\n",
       "                         ⎥\n",
       "                         ⎥\n",
       "     ___                 ⎥\n",
       " x₃₃⋅x₃₃                 ⎥\n",
       "                         ⎦"
      ]
     },
     "metadata": {},
     "output_type": "display_data"
    }
   ],
   "source": [
    "display(factor(simplify(adjoint(U)*U)))"
   ]
  },
  {
   "cell_type": "code",
   "execution_count": 35,
   "metadata": {},
   "outputs": [
    {
     "data": {
      "text/latex": [
       "$$2 x_{32} \\overline{x_{32}} + x_{33} \\overline{x_{33}}$$"
      ],
      "text/plain": [
       "      ___       ___\n",
       "2⋅x₃₂⋅x₃₂ + x₃₃⋅x₃₃"
      ]
     },
     "metadata": {},
     "output_type": "display_data"
    }
   ],
   "source": [
    "display(factor(simplify((U*adjoint(U))[2,2])))"
   ]
  },
  {
   "cell_type": "code",
   "execution_count": 60,
   "metadata": {},
   "outputs": [
    {
     "data": {
      "text/latex": [
       "$$\\left [ \\left ( - \\sqrt{- \\epsilon^{2} + 1} \\left|{\\cos{\\left (\\alpha \\right )}}\\right|, \\quad - \\overline{\\sqrt{- \\epsilon^{2} + 1}} \\left|{\\cos{\\left (\\alpha \\right )}}\\right|\\right ), \\quad \\left ( \\sqrt{- \\epsilon^{2} + 1} \\left|{\\cos{\\left (\\alpha \\right )}}\\right|, \\quad \\overline{\\sqrt{- \\epsilon^{2} + 1}} \\left|{\\cos{\\left (\\alpha \\right )}}\\right|\\right )\\right ]$$"
      ],
      "text/plain": [
       "⎡⎛                          _____________         ⎞  ⎛                        \n",
       "⎢⎜    __________               __________         ⎟  ⎜   __________           \n",
       "⎢⎜   ╱    2                   ╱    2              ⎟  ⎜  ╱    2                \n",
       "⎣⎝-╲╱  - ε  + 1 ⋅│cos(α)│, -╲╱  - ε  + 1 ⋅│cos(α)│⎠, ⎝╲╱  - ε  + 1 ⋅│cos(α)│, \n",
       "\n",
       "_____________         ⎞⎤\n",
       "   __________         ⎟⎥\n",
       "  ╱    2              ⎟⎥\n",
       "╲╱  - ε  + 1 ⋅│cos(α)│⎠⎦"
      ]
     },
     "execution_count": 60,
     "metadata": {},
     "output_type": "execute_result"
    }
   ],
   "source": [
    "solve((U*adjoint(U))[0,0]-1,x_13,adjoint(x_13))"
   ]
  },
  {
   "cell_type": "code",
   "execution_count": 54,
   "metadata": {},
   "outputs": [
    {
     "data": {
      "text/latex": [
       "$$e^{i \\left(\\alpha + \\pi\\right)}$$"
      ],
      "text/plain": [
       " ⅈ⋅(α + π)\n",
       "ℯ         "
      ]
     },
     "execution_count": 54,
     "metadata": {},
     "output_type": "execute_result"
    }
   ],
   "source": [
    "simplify(exp(I*(a+pi)))"
   ]
  },
  {
   "cell_type": "code",
   "execution_count": 62,
   "metadata": {},
   "outputs": [
    {
     "data": {
      "text/latex": [
       "$$\\left [ \\left ( - \\sqrt{- \\epsilon^{2} + 1} \\left|{\\cos{\\left (\\alpha \\right )}}\\right|, \\quad - \\sqrt{- \\epsilon^{2} + 1} \\left|{\\sin{\\left (\\alpha \\right )}}\\right|, \\quad - \\sqrt{- \\epsilon^{2} + 1} \\left|{\\cos{\\left (\\alpha \\right )}}\\right|, \\quad - \\sqrt{- \\epsilon^{2} + 1} \\left|{\\sin{\\left (\\alpha \\right )}}\\right|, \\quad - \\sqrt{- \\sqrt{- \\epsilon^{2} + 1} \\overline{\\sqrt{- \\epsilon^{2} + 1}} + 1}\\right ), \\quad \\left ( - \\sqrt{- \\epsilon^{2} + 1} \\left|{\\cos{\\left (\\alpha \\right )}}\\right|, \\quad - \\sqrt{- \\epsilon^{2} + 1} \\left|{\\sin{\\left (\\alpha \\right )}}\\right|, \\quad - \\sqrt{- \\epsilon^{2} + 1} \\left|{\\cos{\\left (\\alpha \\right )}}\\right|, \\quad - \\sqrt{- \\epsilon^{2} + 1} \\left|{\\sin{\\left (\\alpha \\right )}}\\right|, \\quad \\sqrt{- \\sqrt{- \\epsilon^{2} + 1} \\overline{\\sqrt{- \\epsilon^{2} + 1}} + 1}\\right ), \\quad \\left ( - \\sqrt{- \\epsilon^{2} + 1} \\left|{\\cos{\\left (\\alpha \\right )}}\\right|, \\quad - \\sqrt{- \\epsilon^{2} + 1} \\left|{\\sin{\\left (\\alpha \\right )}}\\right|, \\quad - \\sqrt{- \\epsilon^{2} + 1} \\left|{\\cos{\\left (\\alpha \\right )}}\\right|, \\quad \\sqrt{- \\epsilon^{2} + 1} \\left|{\\sin{\\left (\\alpha \\right )}}\\right|, \\quad - \\sqrt{- \\sqrt{- \\epsilon^{2} + 1} \\overline{\\sqrt{- \\epsilon^{2} + 1}} + 1}\\right ), \\quad \\left ( - \\sqrt{- \\epsilon^{2} + 1} \\left|{\\cos{\\left (\\alpha \\right )}}\\right|, \\quad - \\sqrt{- \\epsilon^{2} + 1} \\left|{\\sin{\\left (\\alpha \\right )}}\\right|, \\quad - \\sqrt{- \\epsilon^{2} + 1} \\left|{\\cos{\\left (\\alpha \\right )}}\\right|, \\quad \\sqrt{- \\epsilon^{2} + 1} \\left|{\\sin{\\left (\\alpha \\right )}}\\right|, \\quad \\sqrt{- \\sqrt{- \\epsilon^{2} + 1} \\overline{\\sqrt{- \\epsilon^{2} + 1}} + 1}\\right ), \\quad \\left ( - \\sqrt{- \\epsilon^{2} + 1} \\left|{\\cos{\\left (\\alpha \\right )}}\\right|, \\quad - \\sqrt{- \\epsilon^{2} + 1} \\left|{\\sin{\\left (\\alpha \\right )}}\\right|, \\quad \\sqrt{- \\epsilon^{2} + 1} \\left|{\\cos{\\left (\\alpha \\right )}}\\right|, \\quad - \\sqrt{- \\epsilon^{2} + 1} \\left|{\\sin{\\left (\\alpha \\right )}}\\right|, \\quad - \\sqrt{- \\sqrt{- \\epsilon^{2} + 1} \\overline{\\sqrt{- \\epsilon^{2} + 1}} + 1}\\right ), \\quad \\left ( - \\sqrt{- \\epsilon^{2} + 1} \\left|{\\cos{\\left (\\alpha \\right )}}\\right|, \\quad - \\sqrt{- \\epsilon^{2} + 1} \\left|{\\sin{\\left (\\alpha \\right )}}\\right|, \\quad \\sqrt{- \\epsilon^{2} + 1} \\left|{\\cos{\\left (\\alpha \\right )}}\\right|, \\quad - \\sqrt{- \\epsilon^{2} + 1} \\left|{\\sin{\\left (\\alpha \\right )}}\\right|, \\quad \\sqrt{- \\sqrt{- \\epsilon^{2} + 1} \\overline{\\sqrt{- \\epsilon^{2} + 1}} + 1}\\right ), \\quad \\left ( - \\sqrt{- \\epsilon^{2} + 1} \\left|{\\cos{\\left (\\alpha \\right )}}\\right|, \\quad - \\sqrt{- \\epsilon^{2} + 1} \\left|{\\sin{\\left (\\alpha \\right )}}\\right|, \\quad \\sqrt{- \\epsilon^{2} + 1} \\left|{\\cos{\\left (\\alpha \\right )}}\\right|, \\quad \\sqrt{- \\epsilon^{2} + 1} \\left|{\\sin{\\left (\\alpha \\right )}}\\right|, \\quad - \\sqrt{- \\sqrt{- \\epsilon^{2} + 1} \\overline{\\sqrt{- \\epsilon^{2} + 1}} + 1}\\right ), \\quad \\left ( - \\sqrt{- \\epsilon^{2} + 1} \\left|{\\cos{\\left (\\alpha \\right )}}\\right|, \\quad - \\sqrt{- \\epsilon^{2} + 1} \\left|{\\sin{\\left (\\alpha \\right )}}\\right|, \\quad \\sqrt{- \\epsilon^{2} + 1} \\left|{\\cos{\\left (\\alpha \\right )}}\\right|, \\quad \\sqrt{- \\epsilon^{2} + 1} \\left|{\\sin{\\left (\\alpha \\right )}}\\right|, \\quad \\sqrt{- \\sqrt{- \\epsilon^{2} + 1} \\overline{\\sqrt{- \\epsilon^{2} + 1}} + 1}\\right ), \\quad \\left ( - \\sqrt{- \\epsilon^{2} + 1} \\left|{\\cos{\\left (\\alpha \\right )}}\\right|, \\quad \\sqrt{- \\epsilon^{2} + 1} \\left|{\\sin{\\left (\\alpha \\right )}}\\right|, \\quad - \\sqrt{- \\epsilon^{2} + 1} \\left|{\\cos{\\left (\\alpha \\right )}}\\right|, \\quad - \\sqrt{- \\epsilon^{2} + 1} \\left|{\\sin{\\left (\\alpha \\right )}}\\right|, \\quad - \\sqrt{- \\sqrt{- \\epsilon^{2} + 1} \\overline{\\sqrt{- \\epsilon^{2} + 1}} + 1}\\right ), \\quad \\left ( - \\sqrt{- \\epsilon^{2} + 1} \\left|{\\cos{\\left (\\alpha \\right )}}\\right|, \\quad \\sqrt{- \\epsilon^{2} + 1} \\left|{\\sin{\\left (\\alpha \\right )}}\\right|, \\quad - \\sqrt{- \\epsilon^{2} + 1} \\left|{\\cos{\\left (\\alpha \\right )}}\\right|, \\quad - \\sqrt{- \\epsilon^{2} + 1} \\left|{\\sin{\\left (\\alpha \\right )}}\\right|, \\quad \\sqrt{- \\sqrt{- \\epsilon^{2} + 1} \\overline{\\sqrt{- \\epsilon^{2} + 1}} + 1}\\right ), \\quad \\left ( - \\sqrt{- \\epsilon^{2} + 1} \\left|{\\cos{\\left (\\alpha \\right )}}\\right|, \\quad \\sqrt{- \\epsilon^{2} + 1} \\left|{\\sin{\\left (\\alpha \\right )}}\\right|, \\quad - \\sqrt{- \\epsilon^{2} + 1} \\left|{\\cos{\\left (\\alpha \\right )}}\\right|, \\quad \\sqrt{- \\epsilon^{2} + 1} \\left|{\\sin{\\left (\\alpha \\right )}}\\right|, \\quad - \\sqrt{- \\sqrt{- \\epsilon^{2} + 1} \\overline{\\sqrt{- \\epsilon^{2} + 1}} + 1}\\right ), \\quad \\left ( - \\sqrt{- \\epsilon^{2} + 1} \\left|{\\cos{\\left (\\alpha \\right )}}\\right|, \\quad \\sqrt{- \\epsilon^{2} + 1} \\left|{\\sin{\\left (\\alpha \\right )}}\\right|, \\quad - \\sqrt{- \\epsilon^{2} + 1} \\left|{\\cos{\\left (\\alpha \\right )}}\\right|, \\quad \\sqrt{- \\epsilon^{2} + 1} \\left|{\\sin{\\left (\\alpha \\right )}}\\right|, \\quad \\sqrt{- \\sqrt{- \\epsilon^{2} + 1} \\overline{\\sqrt{- \\epsilon^{2} + 1}} + 1}\\right ), \\quad \\left ( - \\sqrt{- \\epsilon^{2} + 1} \\left|{\\cos{\\left (\\alpha \\right )}}\\right|, \\quad \\sqrt{- \\epsilon^{2} + 1} \\left|{\\sin{\\left (\\alpha \\right )}}\\right|, \\quad \\sqrt{- \\epsilon^{2} + 1} \\left|{\\cos{\\left (\\alpha \\right )}}\\right|, \\quad - \\sqrt{- \\epsilon^{2} + 1} \\left|{\\sin{\\left (\\alpha \\right )}}\\right|, \\quad - \\sqrt{- \\sqrt{- \\epsilon^{2} + 1} \\overline{\\sqrt{- \\epsilon^{2} + 1}} + 1}\\right ), \\quad \\left ( - \\sqrt{- \\epsilon^{2} + 1} \\left|{\\cos{\\left (\\alpha \\right )}}\\right|, \\quad \\sqrt{- \\epsilon^{2} + 1} \\left|{\\sin{\\left (\\alpha \\right )}}\\right|, \\quad \\sqrt{- \\epsilon^{2} + 1} \\left|{\\cos{\\left (\\alpha \\right )}}\\right|, \\quad - \\sqrt{- \\epsilon^{2} + 1} \\left|{\\sin{\\left (\\alpha \\right )}}\\right|, \\quad \\sqrt{- \\sqrt{- \\epsilon^{2} + 1} \\overline{\\sqrt{- \\epsilon^{2} + 1}} + 1}\\right ), \\quad \\left ( - \\sqrt{- \\epsilon^{2} + 1} \\left|{\\cos{\\left (\\alpha \\right )}}\\right|, \\quad \\sqrt{- \\epsilon^{2} + 1} \\left|{\\sin{\\left (\\alpha \\right )}}\\right|, \\quad \\sqrt{- \\epsilon^{2} + 1} \\left|{\\cos{\\left (\\alpha \\right )}}\\right|, \\quad \\sqrt{- \\epsilon^{2} + 1} \\left|{\\sin{\\left (\\alpha \\right )}}\\right|, \\quad - \\sqrt{- \\sqrt{- \\epsilon^{2} + 1} \\overline{\\sqrt{- \\epsilon^{2} + 1}} + 1}\\right ), \\quad \\left ( - \\sqrt{- \\epsilon^{2} + 1} \\left|{\\cos{\\left (\\alpha \\right )}}\\right|, \\quad \\sqrt{- \\epsilon^{2} + 1} \\left|{\\sin{\\left (\\alpha \\right )}}\\right|, \\quad \\sqrt{- \\epsilon^{2} + 1} \\left|{\\cos{\\left (\\alpha \\right )}}\\right|, \\quad \\sqrt{- \\epsilon^{2} + 1} \\left|{\\sin{\\left (\\alpha \\right )}}\\right|, \\quad \\sqrt{- \\sqrt{- \\epsilon^{2} + 1} \\overline{\\sqrt{- \\epsilon^{2} + 1}} + 1}\\right ), \\quad \\left ( \\sqrt{- \\epsilon^{2} + 1} \\left|{\\cos{\\left (\\alpha \\right )}}\\right|, \\quad - \\sqrt{- \\epsilon^{2} + 1} \\left|{\\sin{\\left (\\alpha \\right )}}\\right|, \\quad - \\sqrt{- \\epsilon^{2} + 1} \\left|{\\cos{\\left (\\alpha \\right )}}\\right|, \\quad - \\sqrt{- \\epsilon^{2} + 1} \\left|{\\sin{\\left (\\alpha \\right )}}\\right|, \\quad - \\sqrt{- \\sqrt{- \\epsilon^{2} + 1} \\overline{\\sqrt{- \\epsilon^{2} + 1}} + 1}\\right ), \\quad \\left ( \\sqrt{- \\epsilon^{2} + 1} \\left|{\\cos{\\left (\\alpha \\right )}}\\right|, \\quad - \\sqrt{- \\epsilon^{2} + 1} \\left|{\\sin{\\left (\\alpha \\right )}}\\right|, \\quad - \\sqrt{- \\epsilon^{2} + 1} \\left|{\\cos{\\left (\\alpha \\right )}}\\right|, \\quad - \\sqrt{- \\epsilon^{2} + 1} \\left|{\\sin{\\left (\\alpha \\right )}}\\right|, \\quad \\sqrt{- \\sqrt{- \\epsilon^{2} + 1} \\overline{\\sqrt{- \\epsilon^{2} + 1}} + 1}\\right ), \\quad \\left ( \\sqrt{- \\epsilon^{2} + 1} \\left|{\\cos{\\left (\\alpha \\right )}}\\right|, \\quad - \\sqrt{- \\epsilon^{2} + 1} \\left|{\\sin{\\left (\\alpha \\right )}}\\right|, \\quad - \\sqrt{- \\epsilon^{2} + 1} \\left|{\\cos{\\left (\\alpha \\right )}}\\right|, \\quad \\sqrt{- \\epsilon^{2} + 1} \\left|{\\sin{\\left (\\alpha \\right )}}\\right|, \\quad - \\sqrt{- \\sqrt{- \\epsilon^{2} + 1} \\overline{\\sqrt{- \\epsilon^{2} + 1}} + 1}\\right ), \\quad \\left ( \\sqrt{- \\epsilon^{2} + 1} \\left|{\\cos{\\left (\\alpha \\right )}}\\right|, \\quad - \\sqrt{- \\epsilon^{2} + 1} \\left|{\\sin{\\left (\\alpha \\right )}}\\right|, \\quad - \\sqrt{- \\epsilon^{2} + 1} \\left|{\\cos{\\left (\\alpha \\right )}}\\right|, \\quad \\sqrt{- \\epsilon^{2} + 1} \\left|{\\sin{\\left (\\alpha \\right )}}\\right|, \\quad \\sqrt{- \\sqrt{- \\epsilon^{2} + 1} \\overline{\\sqrt{- \\epsilon^{2} + 1}} + 1}\\right ), \\quad \\left ( \\sqrt{- \\epsilon^{2} + 1} \\left|{\\cos{\\left (\\alpha \\right )}}\\right|, \\quad - \\sqrt{- \\epsilon^{2} + 1} \\left|{\\sin{\\left (\\alpha \\right )}}\\right|, \\quad \\sqrt{- \\epsilon^{2} + 1} \\left|{\\cos{\\left (\\alpha \\right )}}\\right|, \\quad - \\sqrt{- \\epsilon^{2} + 1} \\left|{\\sin{\\left (\\alpha \\right )}}\\right|, \\quad - \\sqrt{- \\sqrt{- \\epsilon^{2} + 1} \\overline{\\sqrt{- \\epsilon^{2} + 1}} + 1}\\right ), \\quad \\left ( \\sqrt{- \\epsilon^{2} + 1} \\left|{\\cos{\\left (\\alpha \\right )}}\\right|, \\quad - \\sqrt{- \\epsilon^{2} + 1} \\left|{\\sin{\\left (\\alpha \\right )}}\\right|, \\quad \\sqrt{- \\epsilon^{2} + 1} \\left|{\\cos{\\left (\\alpha \\right )}}\\right|, \\quad - \\sqrt{- \\epsilon^{2} + 1} \\left|{\\sin{\\left (\\alpha \\right )}}\\right|, \\quad \\sqrt{- \\sqrt{- \\epsilon^{2} + 1} \\overline{\\sqrt{- \\epsilon^{2} + 1}} + 1}\\right ), \\quad \\left ( \\sqrt{- \\epsilon^{2} + 1} \\left|{\\cos{\\left (\\alpha \\right )}}\\right|, \\quad - \\sqrt{- \\epsilon^{2} + 1} \\left|{\\sin{\\left (\\alpha \\right )}}\\right|, \\quad \\sqrt{- \\epsilon^{2} + 1} \\left|{\\cos{\\left (\\alpha \\right )}}\\right|, \\quad \\sqrt{- \\epsilon^{2} + 1} \\left|{\\sin{\\left (\\alpha \\right )}}\\right|, \\quad - \\sqrt{- \\sqrt{- \\epsilon^{2} + 1} \\overline{\\sqrt{- \\epsilon^{2} + 1}} + 1}\\right ), \\quad \\left ( \\sqrt{- \\epsilon^{2} + 1} \\left|{\\cos{\\left (\\alpha \\right )}}\\right|, \\quad - \\sqrt{- \\epsilon^{2} + 1} \\left|{\\sin{\\left (\\alpha \\right )}}\\right|, \\quad \\sqrt{- \\epsilon^{2} + 1} \\left|{\\cos{\\left (\\alpha \\right )}}\\right|, \\quad \\sqrt{- \\epsilon^{2} + 1} \\left|{\\sin{\\left (\\alpha \\right )}}\\right|, \\quad \\sqrt{- \\sqrt{- \\epsilon^{2} + 1} \\overline{\\sqrt{- \\epsilon^{2} + 1}} + 1}\\right ), \\quad \\left ( \\sqrt{- \\epsilon^{2} + 1} \\left|{\\cos{\\left (\\alpha \\right )}}\\right|, \\quad \\sqrt{- \\epsilon^{2} + 1} \\left|{\\sin{\\left (\\alpha \\right )}}\\right|, \\quad - \\sqrt{- \\epsilon^{2} + 1} \\left|{\\cos{\\left (\\alpha \\right )}}\\right|, \\quad - \\sqrt{- \\epsilon^{2} + 1} \\left|{\\sin{\\left (\\alpha \\right )}}\\right|, \\quad - \\sqrt{- \\sqrt{- \\epsilon^{2} + 1} \\overline{\\sqrt{- \\epsilon^{2} + 1}} + 1}\\right ), \\quad \\left ( \\sqrt{- \\epsilon^{2} + 1} \\left|{\\cos{\\left (\\alpha \\right )}}\\right|, \\quad \\sqrt{- \\epsilon^{2} + 1} \\left|{\\sin{\\left (\\alpha \\right )}}\\right|, \\quad - \\sqrt{- \\epsilon^{2} + 1} \\left|{\\cos{\\left (\\alpha \\right )}}\\right|, \\quad - \\sqrt{- \\epsilon^{2} + 1} \\left|{\\sin{\\left (\\alpha \\right )}}\\right|, \\quad \\sqrt{- \\sqrt{- \\epsilon^{2} + 1} \\overline{\\sqrt{- \\epsilon^{2} + 1}} + 1}\\right ), \\quad \\left ( \\sqrt{- \\epsilon^{2} + 1} \\left|{\\cos{\\left (\\alpha \\right )}}\\right|, \\quad \\sqrt{- \\epsilon^{2} + 1} \\left|{\\sin{\\left (\\alpha \\right )}}\\right|, \\quad - \\sqrt{- \\epsilon^{2} + 1} \\left|{\\cos{\\left (\\alpha \\right )}}\\right|, \\quad \\sqrt{- \\epsilon^{2} + 1} \\left|{\\sin{\\left (\\alpha \\right )}}\\right|, \\quad - \\sqrt{- \\sqrt{- \\epsilon^{2} + 1} \\overline{\\sqrt{- \\epsilon^{2} + 1}} + 1}\\right ), \\quad \\left ( \\sqrt{- \\epsilon^{2} + 1} \\left|{\\cos{\\left (\\alpha \\right )}}\\right|, \\quad \\sqrt{- \\epsilon^{2} + 1} \\left|{\\sin{\\left (\\alpha \\right )}}\\right|, \\quad - \\sqrt{- \\epsilon^{2} + 1} \\left|{\\cos{\\left (\\alpha \\right )}}\\right|, \\quad \\sqrt{- \\epsilon^{2} + 1} \\left|{\\sin{\\left (\\alpha \\right )}}\\right|, \\quad \\sqrt{- \\sqrt{- \\epsilon^{2} + 1} \\overline{\\sqrt{- \\epsilon^{2} + 1}} + 1}\\right ), \\quad \\left ( \\sqrt{- \\epsilon^{2} + 1} \\left|{\\cos{\\left (\\alpha \\right )}}\\right|, \\quad \\sqrt{- \\epsilon^{2} + 1} \\left|{\\sin{\\left (\\alpha \\right )}}\\right|, \\quad \\sqrt{- \\epsilon^{2} + 1} \\left|{\\cos{\\left (\\alpha \\right )}}\\right|, \\quad - \\sqrt{- \\epsilon^{2} + 1} \\left|{\\sin{\\left (\\alpha \\right )}}\\right|, \\quad - \\sqrt{- \\sqrt{- \\epsilon^{2} + 1} \\overline{\\sqrt{- \\epsilon^{2} + 1}} + 1}\\right ), \\quad \\left ( \\sqrt{- \\epsilon^{2} + 1} \\left|{\\cos{\\left (\\alpha \\right )}}\\right|, \\quad \\sqrt{- \\epsilon^{2} + 1} \\left|{\\sin{\\left (\\alpha \\right )}}\\right|, \\quad \\sqrt{- \\epsilon^{2} + 1} \\left|{\\cos{\\left (\\alpha \\right )}}\\right|, \\quad - \\sqrt{- \\epsilon^{2} + 1} \\left|{\\sin{\\left (\\alpha \\right )}}\\right|, \\quad \\sqrt{- \\sqrt{- \\epsilon^{2} + 1} \\overline{\\sqrt{- \\epsilon^{2} + 1}} + 1}\\right ), \\quad \\left ( \\sqrt{- \\epsilon^{2} + 1} \\left|{\\cos{\\left (\\alpha \\right )}}\\right|, \\quad \\sqrt{- \\epsilon^{2} + 1} \\left|{\\sin{\\left (\\alpha \\right )}}\\right|, \\quad \\sqrt{- \\epsilon^{2} + 1} \\left|{\\cos{\\left (\\alpha \\right )}}\\right|, \\quad \\sqrt{- \\epsilon^{2} + 1} \\left|{\\sin{\\left (\\alpha \\right )}}\\right|, \\quad - \\sqrt{- \\sqrt{- \\epsilon^{2} + 1} \\overline{\\sqrt{- \\epsilon^{2} + 1}} + 1}\\right ), \\quad \\left ( \\sqrt{- \\epsilon^{2} + 1} \\left|{\\cos{\\left (\\alpha \\right )}}\\right|, \\quad \\sqrt{- \\epsilon^{2} + 1} \\left|{\\sin{\\left (\\alpha \\right )}}\\right|, \\quad \\sqrt{- \\epsilon^{2} + 1} \\left|{\\cos{\\left (\\alpha \\right )}}\\right|, \\quad \\sqrt{- \\epsilon^{2} + 1} \\left|{\\sin{\\left (\\alpha \\right )}}\\right|, \\quad \\sqrt{- \\sqrt{- \\epsilon^{2} + 1} \\overline{\\sqrt{- \\epsilon^{2} + 1}} + 1}\\right )\\right ]$$"
      ],
      "text/plain": [
       "⎡⎛                                                                            \n",
       "⎢⎜                                                                            \n",
       "⎢⎜    __________               __________               __________            \n",
       "⎢⎜   ╱    2                   ╱    2                   ╱    2                 \n",
       "⎣⎝-╲╱  - ε  + 1 ⋅│cos(α)│, -╲╱  - ε  + 1 ⋅│sin(α)│, -╲╱  - ε  + 1 ⋅│cos(α)│, -\n",
       "\n",
       "                              ___________________________________⎞  ⎛         \n",
       "                             ╱                 _____________     ⎟  ⎜         \n",
       "   __________               ╱       __________    __________     ⎟  ⎜    _____\n",
       "  ╱    2                   ╱       ╱    2        ╱    2          ⎟  ⎜   ╱    2\n",
       "╲╱  - ε  + 1 ⋅│sin(α)│, -╲╱    - ╲╱  - ε  + 1 ⋅╲╱  - ε  + 1  + 1 ⎠, ⎝-╲╱  - ε \n",
       "\n",
       "                                                                              \n",
       "                                                                              \n",
       "_____               __________               __________               ________\n",
       "                   ╱    2                   ╱    2                   ╱    2   \n",
       " + 1 ⋅│cos(α)│, -╲╱  - ε  + 1 ⋅│sin(α)│, -╲╱  - ε  + 1 ⋅│cos(α)│, -╲╱  - ε  + \n",
       "\n",
       "                  ___________________________________⎞  ⎛                     \n",
       "                 ╱                 _____________     ⎟  ⎜                     \n",
       "__              ╱       __________    __________     ⎟  ⎜    __________       \n",
       "               ╱       ╱    2        ╱    2          ⎟  ⎜   ╱    2            \n",
       "1 ⋅│sin(α)│, ╲╱    - ╲╱  - ε  + 1 ⋅╲╱  - ε  + 1  + 1 ⎠, ⎝-╲╱  - ε  + 1 ⋅│cos(α\n",
       "\n",
       "                                                                              \n",
       "                                                                              \n",
       "        __________               __________              __________           \n",
       "       ╱    2                   ╱    2                  ╱    2                \n",
       ")│, -╲╱  - ε  + 1 ⋅│sin(α)│, -╲╱  - ε  + 1 ⋅│cos(α)│, ╲╱  - ε  + 1 ⋅│sin(α)│, \n",
       "\n",
       "      ___________________________________⎞  ⎛                                 \n",
       "     ╱                 _____________     ⎟  ⎜                                 \n",
       "    ╱       __________    __________     ⎟  ⎜    __________               ____\n",
       "   ╱       ╱    2        ╱    2          ⎟  ⎜   ╱    2                   ╱    \n",
       "-╲╱    - ╲╱  - ε  + 1 ⋅╲╱  - ε  + 1  + 1 ⎠, ⎝-╲╱  - ε  + 1 ⋅│cos(α)│, -╲╱  - ε\n",
       "\n",
       "                                                                       _______\n",
       "                                                                      ╱       \n",
       "______               __________              __________              ╱       _\n",
       "2                   ╱    2                  ╱    2                  ╱       ╱ \n",
       "  + 1 ⋅│sin(α)│, -╲╱  - ε  + 1 ⋅│cos(α)│, ╲╱  - ε  + 1 ⋅│sin(α)│, ╲╱    - ╲╱  \n",
       "\n",
       "____________________________⎞  ⎛                                              \n",
       "          _____________     ⎟  ⎜                                              \n",
       "_________    __________     ⎟  ⎜    __________               __________       \n",
       "   2        ╱    2          ⎟  ⎜   ╱    2                   ╱    2            \n",
       "- ε  + 1 ⋅╲╱  - ε  + 1  + 1 ⎠, ⎝-╲╱  - ε  + 1 ⋅│cos(α)│, -╲╱  - ε  + 1 ⋅│sin(α\n",
       "\n",
       "                                                           ___________________\n",
       "                                                          ╱                 __\n",
       "       __________               __________               ╱       __________   \n",
       "      ╱    2                   ╱    2                   ╱       ╱    2        \n",
       ")│, ╲╱  - ε  + 1 ⋅│cos(α)│, -╲╱  - ε  + 1 ⋅│sin(α)│, -╲╱    - ╲╱  - ε  + 1 ⋅╲╱\n",
       "\n",
       "________________⎞  ⎛                                                          \n",
       "___________     ⎟  ⎜                                                          \n",
       " __________     ⎟  ⎜    __________               __________              _____\n",
       "╱    2          ⎟  ⎜   ╱    2                   ╱    2                  ╱    2\n",
       "  - ε  + 1  + 1 ⎠, ⎝-╲╱  - ε  + 1 ⋅│cos(α)│, -╲╱  - ε  + 1 ⋅│sin(α)│, ╲╱  - ε \n",
       "\n",
       "                                              ________________________________\n",
       "                                             ╱                 _____________  \n",
       "_____               __________              ╱       __________    __________  \n",
       "                   ╱    2                  ╱       ╱    2        ╱    2       \n",
       " + 1 ⋅│cos(α)│, -╲╱  - ε  + 1 ⋅│sin(α)│, ╲╱    - ╲╱  - ε  + 1 ⋅╲╱  - ε  + 1  +\n",
       "\n",
       "___⎞  ⎛                                                                       \n",
       "   ⎟  ⎜                                                                       \n",
       "   ⎟  ⎜    __________               __________              __________        \n",
       "   ⎟  ⎜   ╱    2                   ╱    2                  ╱    2             \n",
       " 1 ⎠, ⎝-╲╱  - ε  + 1 ⋅│cos(α)│, -╲╱  - ε  + 1 ⋅│sin(α)│, ╲╱  - ε  + 1 ⋅│cos(α)\n",
       "\n",
       "                                 ___________________________________⎞  ⎛      \n",
       "                                ╱                 _____________     ⎟  ⎜      \n",
       "      __________               ╱       __________    __________     ⎟  ⎜    __\n",
       "     ╱    2                   ╱       ╱    2        ╱    2          ⎟  ⎜   ╱  \n",
       "│, ╲╱  - ε  + 1 ⋅│sin(α)│, -╲╱    - ╲╱  - ε  + 1 ⋅╲╱  - ε  + 1  + 1 ⎠, ⎝-╲╱  -\n",
       "\n",
       "                                                                              \n",
       "                                                                              \n",
       "________               __________              __________              _______\n",
       "  2                   ╱    2                  ╱    2                  ╱    2  \n",
       " ε  + 1 ⋅│cos(α)│, -╲╱  - ε  + 1 ⋅│sin(α)│, ╲╱  - ε  + 1 ⋅│cos(α)│, ╲╱  - ε  +\n",
       "\n",
       "                   ___________________________________⎞  ⎛                    \n",
       "                  ╱                 _____________     ⎟  ⎜                    \n",
       "___              ╱       __________    __________     ⎟  ⎜    __________      \n",
       "                ╱       ╱    2        ╱    2          ⎟  ⎜   ╱    2           \n",
       " 1 ⋅│sin(α)│, ╲╱    - ╲╱  - ε  + 1 ⋅╲╱  - ε  + 1  + 1 ⎠, ⎝-╲╱  - ε  + 1 ⋅│cos(\n",
       "\n",
       "                                                                              \n",
       "                                                                              \n",
       "        __________               __________               __________          \n",
       "       ╱    2                   ╱    2                   ╱    2               \n",
       "α)│, ╲╱  - ε  + 1 ⋅│sin(α)│, -╲╱  - ε  + 1 ⋅│cos(α)│, -╲╱  - ε  + 1 ⋅│sin(α)│,\n",
       "\n",
       "       ___________________________________⎞  ⎛                                \n",
       "      ╱                 _____________     ⎟  ⎜                                \n",
       "     ╱       __________    __________     ⎟  ⎜    __________              ____\n",
       "    ╱       ╱    2        ╱    2          ⎟  ⎜   ╱    2                  ╱    \n",
       " -╲╱    - ╲╱  - ε  + 1 ⋅╲╱  - ε  + 1  + 1 ⎠, ⎝-╲╱  - ε  + 1 ⋅│cos(α)│, ╲╱  - ε\n",
       "\n",
       "                                                                        ______\n",
       "                                                                       ╱      \n",
       "______               __________               __________              ╱       \n",
       "2                   ╱    2                   ╱    2                  ╱       ╱\n",
       "  + 1 ⋅│sin(α)│, -╲╱  - ε  + 1 ⋅│cos(α)│, -╲╱  - ε  + 1 ⋅│sin(α)│, ╲╱    - ╲╱ \n",
       "\n",
       "_____________________________⎞  ⎛                                             \n",
       "           _____________     ⎟  ⎜                                             \n",
       "__________    __________     ⎟  ⎜    __________              __________       \n",
       "    2        ╱    2          ⎟  ⎜   ╱    2                  ╱    2            \n",
       " - ε  + 1 ⋅╲╱  - ε  + 1  + 1 ⎠, ⎝-╲╱  - ε  + 1 ⋅│cos(α)│, ╲╱  - ε  + 1 ⋅│sin(α\n",
       "\n",
       "                                                           ___________________\n",
       "                                                          ╱                 __\n",
       "        __________              __________               ╱       __________   \n",
       "       ╱    2                  ╱    2                   ╱       ╱    2        \n",
       ")│, -╲╱  - ε  + 1 ⋅│cos(α)│, ╲╱  - ε  + 1 ⋅│sin(α)│, -╲╱    - ╲╱  - ε  + 1 ⋅╲╱\n",
       "\n",
       "________________⎞  ⎛                                                          \n",
       "___________     ⎟  ⎜                                                          \n",
       " __________     ⎟  ⎜    __________              __________               _____\n",
       "╱    2          ⎟  ⎜   ╱    2                  ╱    2                   ╱    2\n",
       "  - ε  + 1  + 1 ⎠, ⎝-╲╱  - ε  + 1 ⋅│cos(α)│, ╲╱  - ε  + 1 ⋅│sin(α)│, -╲╱  - ε \n",
       "\n",
       "                                             _________________________________\n",
       "                                            ╱                 _____________   \n",
       "_____              __________              ╱       __________    __________   \n",
       "                  ╱    2                  ╱       ╱    2        ╱    2        \n",
       " + 1 ⋅│cos(α)│, ╲╱  - ε  + 1 ⋅│sin(α)│, ╲╱    - ╲╱  - ε  + 1 ⋅╲╱  - ε  + 1  + \n",
       "\n",
       "__⎞  ⎛                                                                        \n",
       "  ⎟  ⎜                                                                        \n",
       "  ⎟  ⎜    __________              __________              __________          \n",
       "  ⎟  ⎜   ╱    2                  ╱    2                  ╱    2               \n",
       "1 ⎠, ⎝-╲╱  - ε  + 1 ⋅│cos(α)│, ╲╱  - ε  + 1 ⋅│sin(α)│, ╲╱  - ε  + 1 ⋅│cos(α)│,\n",
       "\n",
       "                                ___________________________________⎞  ⎛       \n",
       "                               ╱                 _____________     ⎟  ⎜       \n",
       "     __________               ╱       __________    __________     ⎟  ⎜    ___\n",
       "    ╱    2                   ╱       ╱    2        ╱    2          ⎟  ⎜   ╱   \n",
       " -╲╱  - ε  + 1 ⋅│sin(α)│, -╲╱    - ╲╱  - ε  + 1 ⋅╲╱  - ε  + 1  + 1 ⎠, ⎝-╲╱  - \n",
       "\n",
       "                                                                              \n",
       "                                                                              \n",
       "_______              __________              __________               ________\n",
       " 2                  ╱    2                  ╱    2                   ╱    2   \n",
       "ε  + 1 ⋅│cos(α)│, ╲╱  - ε  + 1 ⋅│sin(α)│, ╲╱  - ε  + 1 ⋅│cos(α)│, -╲╱  - ε  + \n",
       "\n",
       "                  ___________________________________⎞  ⎛                     \n",
       "                 ╱                 _____________     ⎟  ⎜                     \n",
       "__              ╱       __________    __________     ⎟  ⎜    __________       \n",
       "               ╱       ╱    2        ╱    2          ⎟  ⎜   ╱    2            \n",
       "1 ⋅│sin(α)│, ╲╱    - ╲╱  - ε  + 1 ⋅╲╱  - ε  + 1  + 1 ⎠, ⎝-╲╱  - ε  + 1 ⋅│cos(α\n",
       "\n",
       "                                                                              \n",
       "                                                                              \n",
       "       __________              __________              __________             \n",
       "      ╱    2                  ╱    2                  ╱    2                  \n",
       ")│, ╲╱  - ε  + 1 ⋅│sin(α)│, ╲╱  - ε  + 1 ⋅│cos(α)│, ╲╱  - ε  + 1 ⋅│sin(α)│, -╲\n",
       "\n",
       "    ___________________________________⎞  ⎛                                   \n",
       "   ╱                 _____________     ⎟  ⎜                                   \n",
       "  ╱       __________    __________     ⎟  ⎜    __________              _______\n",
       " ╱       ╱    2        ╱    2          ⎟  ⎜   ╱    2                  ╱    2  \n",
       "╱    - ╲╱  - ε  + 1 ⋅╲╱  - ε  + 1  + 1 ⎠, ⎝-╲╱  - ε  + 1 ⋅│cos(α)│, ╲╱  - ε  +\n",
       "\n",
       "                                                                   ___________\n",
       "                                                                  ╱           \n",
       "___              __________              __________              ╱       _____\n",
       "                ╱    2                  ╱    2                  ╱       ╱    2\n",
       " 1 ⋅│sin(α)│, ╲╱  - ε  + 1 ⋅│cos(α)│, ╲╱  - ε  + 1 ⋅│sin(α)│, ╲╱    - ╲╱  - ε \n",
       "\n",
       "________________________⎞  ⎛                                                  \n",
       "      _____________     ⎟  ⎜                                                  \n",
       "_____    __________     ⎟  ⎜   __________               __________            \n",
       "        ╱    2          ⎟  ⎜  ╱    2                   ╱    2                 \n",
       " + 1 ⋅╲╱  - ε  + 1  + 1 ⎠, ⎝╲╱  - ε  + 1 ⋅│cos(α)│, -╲╱  - ε  + 1 ⋅│sin(α)│, -\n",
       "\n",
       "                                                       _______________________\n",
       "                                                      ╱                 ______\n",
       "   __________               __________               ╱       __________    ___\n",
       "  ╱    2                   ╱    2                   ╱       ╱    2        ╱   \n",
       "╲╱  - ε  + 1 ⋅│cos(α)│, -╲╱  - ε  + 1 ⋅│sin(α)│, -╲╱    - ╲╱  - ε  + 1 ⋅╲╱  - \n",
       "\n",
       "____________⎞  ⎛                                                              \n",
       "_______     ⎟  ⎜                                                              \n",
       "_______     ⎟  ⎜   __________               __________               _________\n",
       " 2          ⎟  ⎜  ╱    2                   ╱    2                   ╱    2    \n",
       "ε  + 1  + 1 ⎠, ⎝╲╱  - ε  + 1 ⋅│cos(α)│, -╲╱  - ε  + 1 ⋅│sin(α)│, -╲╱  - ε  + 1\n",
       "\n",
       "                                          ___________________________________⎞\n",
       "                                         ╱                 _____________     ⎟\n",
       "_               __________              ╱       __________    __________     ⎟\n",
       "               ╱    2                  ╱       ╱    2        ╱    2          ⎟\n",
       " ⋅│cos(α)│, -╲╱  - ε  + 1 ⋅│sin(α)│, ╲╱    - ╲╱  - ε  + 1 ⋅╲╱  - ε  + 1  + 1 ⎠\n",
       "\n",
       "  ⎛                                                                           \n",
       "  ⎜                                                                           \n",
       "  ⎜   __________               __________               __________            \n",
       "  ⎜  ╱    2                   ╱    2                   ╱    2                 \n",
       ", ⎝╲╱  - ε  + 1 ⋅│cos(α)│, -╲╱  - ε  + 1 ⋅│sin(α)│, -╲╱  - ε  + 1 ⋅│cos(α)│, ╲\n",
       "\n",
       "                             ___________________________________⎞  ⎛          \n",
       "                            ╱                 _____________     ⎟  ⎜          \n",
       "  __________               ╱       __________    __________     ⎟  ⎜   _______\n",
       " ╱    2                   ╱       ╱    2        ╱    2          ⎟  ⎜  ╱    2  \n",
       "╱  - ε  + 1 ⋅│sin(α)│, -╲╱    - ╲╱  - ε  + 1 ⋅╲╱  - ε  + 1  + 1 ⎠, ⎝╲╱  - ε  +\n",
       "\n",
       "                                                                              \n",
       "                                                                              \n",
       "___               __________               __________              __________ \n",
       "                 ╱    2                   ╱    2                  ╱    2      \n",
       " 1 ⋅│cos(α)│, -╲╱  - ε  + 1 ⋅│sin(α)│, -╲╱  - ε  + 1 ⋅│cos(α)│, ╲╱  - ε  + 1 ⋅\n",
       "\n",
       "               ___________________________________⎞  ⎛                        \n",
       "              ╱                 _____________     ⎟  ⎜                        \n",
       "             ╱       __________    __________     ⎟  ⎜   __________           \n",
       "            ╱       ╱    2        ╱    2          ⎟  ⎜  ╱    2                \n",
       "│sin(α)│, ╲╱    - ╲╱  - ε  + 1 ⋅╲╱  - ε  + 1  + 1 ⎠, ⎝╲╱  - ε  + 1 ⋅│cos(α)│, \n",
       "\n",
       "                                                                              \n",
       "                                                                              \n",
       "    __________              __________               __________               \n",
       "   ╱    2                  ╱    2                   ╱    2                   ╱\n",
       "-╲╱  - ε  + 1 ⋅│sin(α)│, ╲╱  - ε  + 1 ⋅│cos(α)│, -╲╱  - ε  + 1 ⋅│sin(α)│, -╲╱ \n",
       "\n",
       "  ___________________________________⎞  ⎛                                     \n",
       " ╱                 _____________     ⎟  ⎜                                     \n",
       "╱       __________    __________     ⎟  ⎜   __________               _________\n",
       "       ╱    2        ╱    2          ⎟  ⎜  ╱    2                   ╱    2    \n",
       "   - ╲╱  - ε  + 1 ⋅╲╱  - ε  + 1  + 1 ⎠, ⎝╲╱  - ε  + 1 ⋅│cos(α)│, -╲╱  - ε  + 1\n",
       "\n",
       "                                                                  ____________\n",
       "                                                                 ╱            \n",
       "_              __________               __________              ╱       ______\n",
       "              ╱    2                   ╱    2                  ╱       ╱    2 \n",
       " ⋅│sin(α)│, ╲╱  - ε  + 1 ⋅│cos(α)│, -╲╱  - ε  + 1 ⋅│sin(α)│, ╲╱    - ╲╱  - ε  \n",
       "\n",
       "_______________________⎞  ⎛                                                   \n",
       "     _____________     ⎟  ⎜                                                   \n",
       "____    __________     ⎟  ⎜   __________               __________             \n",
       "       ╱    2          ⎟  ⎜  ╱    2                   ╱    2                  \n",
       "+ 1 ⋅╲╱  - ε  + 1  + 1 ⎠, ⎝╲╱  - ε  + 1 ⋅│cos(α)│, -╲╱  - ε  + 1 ⋅│sin(α)│, ╲╱\n",
       "\n",
       "                                                    __________________________\n",
       "                                                   ╱                 _________\n",
       " __________              __________               ╱       __________    ______\n",
       "╱    2                  ╱    2                   ╱       ╱    2        ╱    2 \n",
       "  - ε  + 1 ⋅│cos(α)│, ╲╱  - ε  + 1 ⋅│sin(α)│, -╲╱    - ╲╱  - ε  + 1 ⋅╲╱  - ε  \n",
       "\n",
       "_________⎞  ⎛                                                                 \n",
       "____     ⎟  ⎜                                                                 \n",
       "____     ⎟  ⎜   __________               __________              __________   \n",
       "         ⎟  ⎜  ╱    2                   ╱    2                  ╱    2        \n",
       "+ 1  + 1 ⎠, ⎝╲╱  - ε  + 1 ⋅│cos(α)│, -╲╱  - ε  + 1 ⋅│sin(α)│, ╲╱  - ε  + 1 ⋅│c\n",
       "\n",
       "                                     ___________________________________⎞  ⎛  \n",
       "                                    ╱                 _____________     ⎟  ⎜  \n",
       "           __________              ╱       __________    __________     ⎟  ⎜  \n",
       "          ╱    2                  ╱       ╱    2        ╱    2          ⎟  ⎜  \n",
       "os(α)│, ╲╱  - ε  + 1 ⋅│sin(α)│, ╲╱    - ╲╱  - ε  + 1 ⋅╲╱  - ε  + 1  + 1 ⎠, ⎝╲╱\n",
       "\n",
       "                                                                              \n",
       "                                                                              \n",
       " __________              __________               __________               ___\n",
       "╱    2                  ╱    2                   ╱    2                   ╱   \n",
       "  - ε  + 1 ⋅│cos(α)│, ╲╱  - ε  + 1 ⋅│sin(α)│, -╲╱  - ε  + 1 ⋅│cos(α)│, -╲╱  - \n",
       "\n",
       "                        ___________________________________⎞  ⎛               \n",
       "                       ╱                 _____________     ⎟  ⎜               \n",
       "_______               ╱       __________    __________     ⎟  ⎜   __________  \n",
       " 2                   ╱       ╱    2        ╱    2          ⎟  ⎜  ╱    2       \n",
       "ε  + 1 ⋅│sin(α)│, -╲╱    - ╲╱  - ε  + 1 ⋅╲╱  - ε  + 1  + 1 ⎠, ⎝╲╱  - ε  + 1 ⋅│\n",
       "\n",
       "                                                                              \n",
       "                                                                              \n",
       "            __________               __________               __________      \n",
       "           ╱    2                   ╱    2                   ╱    2           \n",
       "cos(α)│, ╲╱  - ε  + 1 ⋅│sin(α)│, -╲╱  - ε  + 1 ⋅│cos(α)│, -╲╱  - ε  + 1 ⋅│sin(\n",
       "\n",
       "          ___________________________________⎞  ⎛                             \n",
       "         ╱                 _____________     ⎟  ⎜                             \n",
       "        ╱       __________    __________     ⎟  ⎜   __________              __\n",
       "       ╱       ╱    2        ╱    2          ⎟  ⎜  ╱    2                  ╱  \n",
       "α)│, ╲╱    - ╲╱  - ε  + 1 ⋅╲╱  - ε  + 1  + 1 ⎠, ⎝╲╱  - ε  + 1 ⋅│cos(α)│, ╲╱  -\n",
       "\n",
       "                                                                          ____\n",
       "                                                                         ╱    \n",
       "________               __________              __________               ╱     \n",
       "  2                   ╱    2                  ╱    2                   ╱      \n",
       " ε  + 1 ⋅│sin(α)│, -╲╱  - ε  + 1 ⋅│cos(α)│, ╲╱  - ε  + 1 ⋅│sin(α)│, -╲╱    - ╲\n",
       "\n",
       "_______________________________⎞  ⎛                                           \n",
       "             _____________     ⎟  ⎜                                           \n",
       "  __________    __________     ⎟  ⎜   __________              __________      \n",
       " ╱    2        ╱    2          ⎟  ⎜  ╱    2                  ╱    2           \n",
       "╱  - ε  + 1 ⋅╲╱  - ε  + 1  + 1 ⎠, ⎝╲╱  - ε  + 1 ⋅│cos(α)│, ╲╱  - ε  + 1 ⋅│sin(\n",
       "\n",
       "                                                           ___________________\n",
       "                                                          ╱                 __\n",
       "         __________              __________              ╱       __________   \n",
       "        ╱    2                  ╱    2                  ╱       ╱    2        \n",
       "α)│, -╲╱  - ε  + 1 ⋅│cos(α)│, ╲╱  - ε  + 1 ⋅│sin(α)│, ╲╱    - ╲╱  - ε  + 1 ⋅╲╱\n",
       "\n",
       "________________⎞  ⎛                                                          \n",
       "___________     ⎟  ⎜                                                          \n",
       " __________     ⎟  ⎜   __________              __________              _______\n",
       "╱    2          ⎟  ⎜  ╱    2                  ╱    2                  ╱    2  \n",
       "  - ε  + 1  + 1 ⎠, ⎝╲╱  - ε  + 1 ⋅│cos(α)│, ╲╱  - ε  + 1 ⋅│sin(α)│, ╲╱  - ε  +\n",
       "\n",
       "                                             _________________________________\n",
       "                                            ╱                 _____________   \n",
       "___               __________               ╱       __________    __________   \n",
       "                 ╱    2                   ╱       ╱    2        ╱    2        \n",
       " 1 ⋅│cos(α)│, -╲╱  - ε  + 1 ⋅│sin(α)│, -╲╱    - ╲╱  - ε  + 1 ⋅╲╱  - ε  + 1  + \n",
       "\n",
       "__⎞  ⎛                                                                        \n",
       "  ⎟  ⎜                                                                        \n",
       "  ⎟  ⎜   __________              __________              __________           \n",
       "  ⎟  ⎜  ╱    2                  ╱    2                  ╱    2                \n",
       "1 ⎠, ⎝╲╱  - ε  + 1 ⋅│cos(α)│, ╲╱  - ε  + 1 ⋅│sin(α)│, ╲╱  - ε  + 1 ⋅│cos(α)│, \n",
       "\n",
       "                              ___________________________________⎞  ⎛         \n",
       "                             ╱                 _____________     ⎟  ⎜         \n",
       "    __________              ╱       __________    __________     ⎟  ⎜   ______\n",
       "   ╱    2                  ╱       ╱    2        ╱    2          ⎟  ⎜  ╱    2 \n",
       "-╲╱  - ε  + 1 ⋅│sin(α)│, ╲╱    - ╲╱  - ε  + 1 ⋅╲╱  - ε  + 1  + 1 ⎠, ⎝╲╱  - ε  \n",
       "\n",
       "                                                                              \n",
       "                                                                              \n",
       "____              __________              __________              __________  \n",
       "                 ╱    2                  ╱    2                  ╱    2       \n",
       "+ 1 ⋅│cos(α)│, ╲╱  - ε  + 1 ⋅│sin(α)│, ╲╱  - ε  + 1 ⋅│cos(α)│, ╲╱  - ε  + 1 ⋅│\n",
       "\n",
       "               ___________________________________⎞  ⎛                        \n",
       "              ╱                 _____________     ⎟  ⎜                        \n",
       "             ╱       __________    __________     ⎟  ⎜   __________           \n",
       "            ╱       ╱    2        ╱    2          ⎟  ⎜  ╱    2                \n",
       "sin(α)│, -╲╱    - ╲╱  - ε  + 1 ⋅╲╱  - ε  + 1  + 1 ⎠, ⎝╲╱  - ε  + 1 ⋅│cos(α)│, \n",
       "\n",
       "                                                                             _\n",
       "                                                                            ╱ \n",
       "   __________              __________              __________              ╱  \n",
       "  ╱    2                  ╱    2                  ╱    2                  ╱   \n",
       "╲╱  - ε  + 1 ⋅│sin(α)│, ╲╱  - ε  + 1 ⋅│cos(α)│, ╲╱  - ε  + 1 ⋅│sin(α)│, ╲╱    \n",
       "\n",
       "__________________________________⎞⎤\n",
       "                _____________     ⎟⎥\n",
       "     __________    __________     ⎟⎥\n",
       "    ╱    2        ╱    2          ⎟⎥\n",
       "- ╲╱  - ε  + 1 ⋅╲╱  - ε  + 1  + 1 ⎠⎦"
      ]
     },
     "execution_count": 62,
     "metadata": {},
     "output_type": "execute_result"
    }
   ],
   "source": [
    "solve(Matrix([U*adjoint(U)-eye(3),adjoint(U)*U-eye(3)]),(x_13,x_23,x_31,x_32,x_33))"
   ]
  },
  {
   "cell_type": "code",
   "execution_count": 72,
   "metadata": {},
   "outputs": [
    {
     "data": {
      "text/latex": [
       "$$\\left [ \\alpha, \\quad \\alpha_{12}, \\quad \\alpha_{23}\\right ]$$"
      ],
      "text/plain": [
       "[α, α₁₂, α₂₃]"
      ]
     },
     "metadata": {},
     "output_type": "display_data"
    }
   ],
   "source": [
    "a_12,a_13,a_21,a_22,a_23,a_31,a_32,a_33=symbols('alpha12 alpha13 alpha21 alpha22 alpha23 alpha31 alpha32 alpha33')\n",
    "r1=[a,a_12,a_23]\n",
    "r2=[a_21,a_22,a_23]\n",
    "r3=[a_31,a_32,a_33]\n",
    "display(r)"
   ]
  },
  {
   "cell_type": "code",
   "execution_count": 73,
   "metadata": {},
   "outputs": [],
   "source": [
    "U=(Matrix([r1,r2,r3]))\n",
    "U_adj=adjoint(U)\n",
    "U_1=U*U_adj\n",
    "U_2=U_adj*U"
   ]
  },
  {
   "cell_type": "code",
   "execution_count": null,
   "metadata": {},
   "outputs": [],
   "source": [
    "solve(Matrix([U_1-eye(3),U_2-eye(3)]),(a_12,a_13,a_21,a_22,a_23,a_31,a_32,a_33))"
   ]
  },
  {
   "cell_type": "code",
   "execution_count": 74,
   "metadata": {},
   "outputs": [
    {
     "data": {
      "text/latex": [
       "$$\\left [ \\left[\\begin{matrix}\\alpha^{2} + \\alpha_{12} \\overline{\\alpha_{12}} + \\alpha_{23} \\overline{\\alpha_{23}} - 1 & \\alpha \\overline{\\alpha_{21}} + \\alpha_{12} \\overline{\\alpha_{22}} + \\alpha_{23} \\overline{\\alpha_{23}} & \\alpha \\overline{\\alpha_{31}} + \\alpha_{12} \\overline{\\alpha_{32}} + \\alpha_{23} \\overline{\\alpha_{33}}\\\\\\alpha \\alpha_{21} + \\alpha_{22} \\overline{\\alpha_{12}} + \\alpha_{23} \\overline{\\alpha_{23}} & \\alpha_{21} \\overline{\\alpha_{21}} + \\alpha_{22} \\overline{\\alpha_{22}} + \\alpha_{23} \\overline{\\alpha_{23}} - 1 & \\alpha_{21} \\overline{\\alpha_{31}} + \\alpha_{22} \\overline{\\alpha_{32}} + \\alpha_{23} \\overline{\\alpha_{33}}\\\\\\alpha \\alpha_{31} + \\alpha_{32} \\overline{\\alpha_{12}} + \\alpha_{33} \\overline{\\alpha_{23}} & \\alpha_{31} \\overline{\\alpha_{21}} + \\alpha_{32} \\overline{\\alpha_{22}} + \\alpha_{33} \\overline{\\alpha_{23}} & \\alpha_{31} \\overline{\\alpha_{31}} + \\alpha_{32} \\overline{\\alpha_{32}} + \\alpha_{33} \\overline{\\alpha_{33}} - 1\\end{matrix}\\right], \\quad \\left[\\begin{matrix}\\alpha^{2} + \\alpha_{21} \\overline{\\alpha_{21}} + \\alpha_{31} \\overline{\\alpha_{31}} - 1 & \\alpha \\alpha_{12} + \\alpha_{22} \\overline{\\alpha_{21}} + \\alpha_{32} \\overline{\\alpha_{31}} & \\alpha \\alpha_{23} + \\alpha_{23} \\overline{\\alpha_{21}} + \\alpha_{33} \\overline{\\alpha_{31}}\\\\\\alpha \\overline{\\alpha_{12}} + \\alpha_{21} \\overline{\\alpha_{22}} + \\alpha_{31} \\overline{\\alpha_{32}} & \\alpha_{12} \\overline{\\alpha_{12}} + \\alpha_{22} \\overline{\\alpha_{22}} + \\alpha_{32} \\overline{\\alpha_{32}} - 1 & \\alpha_{23} \\overline{\\alpha_{12}} + \\alpha_{23} \\overline{\\alpha_{22}} + \\alpha_{33} \\overline{\\alpha_{32}}\\\\\\alpha \\overline{\\alpha_{23}} + \\alpha_{21} \\overline{\\alpha_{23}} + \\alpha_{31} \\overline{\\alpha_{33}} & \\alpha_{12} \\overline{\\alpha_{23}} + \\alpha_{22} \\overline{\\alpha_{23}} + \\alpha_{32} \\overline{\\alpha_{33}} & 2 \\alpha_{23} \\overline{\\alpha_{23}} + \\alpha_{33} \\overline{\\alpha_{33}} - 1\\end{matrix}\\right]\\right ]$$"
      ],
      "text/plain": [
       "⎡⎡ 2       ___       ___           ___       ___       ___          ___       \n",
       "⎢⎢α  + α₁₂⋅α₁₂ + α₂₃⋅α₂₃ - 1     α⋅α₂₁ + α₁₂⋅α₂₂ + α₂₃⋅α₂₃        α⋅α₃₁ + α₁₂⋅\n",
       "⎢⎢                                                                            \n",
       "⎢⎢            ___       ___       ___       ___       ___            ___      \n",
       "⎢⎢α⋅α₂₁ + α₂₂⋅α₁₂ + α₂₃⋅α₂₃   α₂₁⋅α₂₁ + α₂₂⋅α₂₂ + α₂₃⋅α₂₃ - 1    α₂₁⋅α₃₁ + α₂₂\n",
       "⎢⎢                                                                            \n",
       "⎢⎢            ___       ___         ___       ___       ___        ___       _\n",
       "⎣⎣α⋅α₃₁ + α₃₂⋅α₁₂ + α₃₃⋅α₂₃     α₃₁⋅α₂₁ + α₃₂⋅α₂₂ + α₃₃⋅α₂₃    α₃₁⋅α₃₁ + α₃₂⋅α\n",
       "\n",
       "___       ___   ⎤  ⎡ 2       ___       ___                     ___       ___  \n",
       "α₃₂ + α₂₃⋅α₃₃   ⎥  ⎢α  + α₂₁⋅α₂₁ + α₃₁⋅α₃₁ - 1     α⋅α₁₂ + α₂₂⋅α₂₁ + α₃₂⋅α₃₁  \n",
       "                ⎥  ⎢                                                          \n",
       " ___       ___  ⎥  ⎢  ___       ___       ___       ___       ___       ___   \n",
       "⋅α₃₂ + α₂₃⋅α₃₃  ⎥, ⎢α⋅α₁₂ + α₂₁⋅α₂₂ + α₃₁⋅α₃₂   α₁₂⋅α₁₂ + α₂₂⋅α₂₂ + α₃₂⋅α₃₂ - \n",
       "                ⎥  ⎢                                                          \n",
       "__       ___    ⎥  ⎢  ___       ___       ___         ___       ___       ___ \n",
       "₃₂ + α₃₃⋅α₃₃ - 1⎦  ⎣α⋅α₂₃ + α₂₁⋅α₂₃ + α₃₁⋅α₃₃     α₁₂⋅α₂₃ + α₂₂⋅α₂₃ + α₃₂⋅α₃₃ \n",
       "\n",
       "                ___       ___ ⎤⎤\n",
       "    α⋅α₂₃ + α₂₃⋅α₂₁ + α₃₃⋅α₃₁ ⎥⎥\n",
       "                              ⎥⎥\n",
       "       ___       ___       ___⎥⎥\n",
       "1  α₂₃⋅α₁₂ + α₂₃⋅α₂₂ + α₃₃⋅α₃₂⎥⎥\n",
       "                              ⎥⎥\n",
       "           ___       ___      ⎥⎥\n",
       "     2⋅α₂₃⋅α₂₃ + α₃₃⋅α₃₃ - 1  ⎦⎦"
      ]
     },
     "metadata": {},
     "output_type": "display_data"
    }
   ],
   "source": [
    "display(([U_1-eye(3),U_2-eye(3)]))"
   ]
  },
  {
   "cell_type": "code",
   "execution_count": null,
   "metadata": {},
   "outputs": [],
   "source": []
  }
 ],
 "metadata": {
  "kernelspec": {
   "display_name": "Python 3",
   "language": "python",
   "name": "python3"
  },
  "language_info": {
   "codemirror_mode": {
    "name": "ipython",
    "version": 3
   },
   "file_extension": ".py",
   "mimetype": "text/x-python",
   "name": "python",
   "nbconvert_exporter": "python",
   "pygments_lexer": "ipython3",
   "version": "3.6.8"
  }
 },
 "nbformat": 4,
 "nbformat_minor": 2
}
