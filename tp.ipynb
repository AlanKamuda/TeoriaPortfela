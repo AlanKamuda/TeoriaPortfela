{
 "cells": [
  {
   "cell_type": "code",
   "execution_count": 40,
   "id": "square-moore",
   "metadata": {},
   "outputs": [],
   "source": [
    "import numpy as np\n",
    "np.random.seed(1000)\n",
    "import scipy.stats as scs\n",
    "import statsmodels.api as sm\n",
    "import matplotlib as mpl\n",
    "import matplotlib.pyplot as plt\n",
    "import yfinance as yf\n",
    "%matplotlib inline\n",
    "import scipy.interpolate as sci"
   ]
  },
  {
   "cell_type": "markdown",
   "id": "distributed-cincinnati",
   "metadata": {},
   "source": [
    "# Zwroty logarytmiczne\n",
    "\n",
    "$$R_{\\log}=\\log\\frac{S_{t+1}}{S_t}=\\log S_{t+1}-\\log S_{t},$$\n",
    "gdzie $S_t$ jest ceną akcji w chwili $t$."
   ]
  },
  {
   "cell_type": "markdown",
   "id": "stopped-tunisia",
   "metadata": {},
   "source": [
    "## Kontrolowany eksperyment (Monte Carlo) "
   ]
  },
  {
   "cell_type": "markdown",
   "id": "continuous-medicare",
   "metadata": {},
   "source": [
    " **Zadanie 1)** Napiszemy funkcję która generuje ścieżki z GBM (Procesu Wienera)."
   ]
  },
  {
   "cell_type": "code",
   "execution_count": 2,
   "id": "worthy-battlefield",
   "metadata": {},
   "outputs": [],
   "source": [
    "def MC_paths(S0, r, sigma, T, M, I):\n",
    " "
   ]
  },
  {
   "cell_type": "code",
   "execution_count": 3,
   "id": "waiting-criminal",
   "metadata": {},
   "outputs": [],
   "source": [
    "S0 = 100.\n",
    "r = 0.05\n",
    "sigma = 0.2\n",
    "T = 1.0\n",
    "M = 50\n",
    "I = 250"
   ]
  },
  {
   "cell_type": "markdown",
   "id": "antique-princeton",
   "metadata": {},
   "source": [
    "**Zadanie 2)** Napiszemy funkcję która pokazuje estymowane paramtry rozkładu (_scs._)"
   ]
  },
  {
   "cell_type": "code",
   "execution_count": 8,
   "id": "analyzed-cloud",
   "metadata": {},
   "outputs": [],
   "source": [
    "def statystyki(array):\n",
    "    ''' \n",
    "    inputs\n",
    "    ==========\n",
    "    tablica danych\n"
   ]
  },
  {
   "cell_type": "code",
   "execution_count": 9,
   "id": "liable-pattern",
   "metadata": {},
   "outputs": [
    {
     "name": "stdout",
     "output_type": "stream",
     "text": [
      "    statystyka         wartość\n",
      "------------------------------\n",
      "          size     12500.00000\n",
      "           min        -0.10209\n",
      "           max         0.10441\n",
      "          mean         0.00060\n",
      "           std         0.02829\n",
      "      skośność        -0.02138\n",
      "       kurtoza        -0.07409\n"
     ]
    }
   ],
   "source": [
    "statystyki(log_returns.flatten())"
   ]
  },
  {
   "cell_type": "markdown",
   "id": "educated-yield",
   "metadata": {},
   "source": [
    " **Zadanie 3)** Napiszemy test na normalność rozkładu"
   ]
  },
  {
   "cell_type": "code",
   "execution_count": 10,
   "id": "intimate-devil",
   "metadata": {},
   "outputs": [],
   "source": [
    "def test_normalnosc(tablica):\n",
    "    ''' \n",
    "    inputs\n",
    "    ==========\n",
    "    tablica\n",
    "    '''\n",
    "    "
   ]
  },
  {
   "cell_type": "code",
   "execution_count": 11,
   "id": "opposite-meditation",
   "metadata": {
    "scrolled": true
   },
   "outputs": [
    {
     "name": "stdout",
     "output_type": "stream",
     "text": [
      "skośność                     -0.021\n",
      "p-wartość skośności           0.329\n",
      "kurtoza                      -0.074\n",
      "p-wartość kurtozy             0.085\n",
      "p-wartość testu normalności   0.140\n"
     ]
    }
   ],
   "source": [
    "test_normalnosc(log_returns.flatten())"
   ]
  },
  {
   "cell_type": "markdown",
   "id": "intellectual-smart",
   "metadata": {},
   "source": [
    "## Dane rynkowe "
   ]
  },
  {
   "cell_type": "code",
   "execution_count": 112,
   "id": "verbal-jackson",
   "metadata": {},
   "outputs": [],
   "source": [
    "liczba_portfeli = 10 ** 5\n",
    "liczba_dni = 252\n",
    "instrumenty_ryzykowne = ['FB', 'TSLA', 'TWTR', 'MSFT']\n",
    "instrumenty_ryzykowne.sort()\n",
    "start = '2018-01-01'\n",
    "koniec = '2018-12-31'\n",
    "n_assets = len(instrumenty_ryzykowne)"
   ]
  },
  {
   "cell_type": "code",
   "execution_count": 113,
   "id": "blank-communist",
   "metadata": {},
   "outputs": [
    {
     "name": "stdout",
     "output_type": "stream",
     "text": [
      "[*********************100%***********************]  4 of 4 completed\n"
     ]
    }
   ],
   "source": [
    "prices_df = yf.download(instrumenty_ryzykowne, start=start,\n",
    "end=koniec, adjusted=True)"
   ]
  },
  {
   "cell_type": "code",
   "execution_count": 114,
   "id": "buried-israel",
   "metadata": {},
   "outputs": [],
   "source": [
    "returns_df = prices_df['Adj Close'].pct_change().dropna()\n",
    "avg_returns = returns_df.mean() * N_DAYS\n",
    "cov_mat = returns_df.cov() * N_DAYS"
   ]
  },
  {
   "cell_type": "markdown",
   "id": "sacred-restriction",
   "metadata": {},
   "source": [
    "# Optymalizacja portfela"
   ]
  },
  {
   "cell_type": "markdown",
   "id": "recorded-village",
   "metadata": {},
   "source": [
    "**Zadanie 4)** Brzeg efektywny "
   ]
  },
  {
   "cell_type": "markdown",
   "id": "german-elephant",
   "metadata": {},
   "source": [
    "\n"
   ]
  }
 ],
 "metadata": {
  "kernelspec": {
   "display_name": "Python 3",
   "language": "python",
   "name": "python3"
  },
  "language_info": {
   "codemirror_mode": {
    "name": "ipython",
    "version": 3
   },
   "file_extension": ".py",
   "mimetype": "text/x-python",
   "name": "python",
   "nbconvert_exporter": "python",
   "pygments_lexer": "ipython3",
   "version": "3.9.2"
  }
 },
 "nbformat": 4,
 "nbformat_minor": 5
}
