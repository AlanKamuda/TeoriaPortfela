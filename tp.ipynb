{
 "cells": [
  {
   "cell_type": "code",
   "execution_count": null,
   "id": "square-moore",
   "metadata": {},
   "outputs": [],
   "source": [
    "import numpy as np\n",
    "np.random.seed(1000)\n",
    "import scipy.stats as scs\n",
    "import statsmodels.api as sm\n",
    "import matplotlib as mpl\n",
    "import matplotlib.pyplot as plt\n",
    "import yfinance as yf\n",
    "%matplotlib inline\n",
    "import scipy.interpolate as sci"
   ]
  },
  {
   "cell_type": "markdown",
   "id": "distributed-cincinnati",
   "metadata": {},
   "source": [
    "# Zwroty logarytmiczne\n",
    "\n",
    "$$R_{\\log}=\\log\\frac{S_{t+1}}{S_t}=\\log S_{t+1}-\\log S_{t},$$\n",
    "gdzie $S_t$ jest ceną akcji w chwili $t$."
   ]
  },
  {
   "cell_type": "markdown",
   "id": "stopped-tunisia",
   "metadata": {},
   "source": [
    "## Kontrolowany eksperyment (Monte Carlo) "
   ]
  },
  {
   "cell_type": "markdown",
   "id": "continuous-medicare",
   "metadata": {},
   "source": [
    " **Zadanie 1)** Napiszemy funkcję która generuje ścieżki z GBM (Procesu Wienera)."
   ]
  },
  {
   "cell_type": "code",
   "execution_count": null,
   "id": "worthy-battlefield",
   "metadata": {},
   "outputs": [],
   "source": [
    "def MC_paths(S0, r, sigma, T, M, I):\n",
    " "
   ]
  },
  {
   "cell_type": "code",
   "execution_count": null,
   "id": "waiting-criminal",
   "metadata": {},
   "outputs": [],
   "source": [
    "S0 = 100.\n",
    "r = 0.05\n",
    "sigma = 0.2\n",
    "T = 1.0\n",
    "M = 50\n",
    "I = 250"
   ]
  },
  {
   "cell_type": "markdown",
   "id": "antique-princeton",
   "metadata": {},
   "source": [
    "**Zadanie 2)** Napiszemy funkcję która pokazuje estymowane paramtry rozkładu (_scs._)"
   ]
  },
  {
   "cell_type": "code",
   "execution_count": null,
   "id": "analyzed-cloud",
   "metadata": {},
   "outputs": [],
   "source": [
    "def statystyki(array):\n",
    "    ''' \n",
    "    inputs\n",
    "    ==========\n",
    "    tablica danych\n"
   ]
  },
  {
   "cell_type": "code",
   "execution_count": null,
   "id": "liable-pattern",
   "metadata": {},
   "outputs": [],
   "source": [
    "statystyki(log_returns.flatten())"
   ]
  },
  {
   "cell_type": "markdown",
   "id": "educated-yield",
   "metadata": {},
   "source": [
    " **Zadanie 3)** Napiszemy test na normalność rozkładu"
   ]
  },
  {
   "cell_type": "code",
   "execution_count": null,
   "id": "intimate-devil",
   "metadata": {},
   "outputs": [],
   "source": [
    "def test_normalnosc(tablica):\n",
    "    ''' \n",
    "    inputs\n",
    "    ==========\n",
    "    tablica\n",
    "    '''\n",
    "    "
   ]
  },
  {
   "cell_type": "code",
   "execution_count": null,
   "id": "opposite-meditation",
   "metadata": {
    "scrolled": true
   },
   "outputs": [],
   "source": [
    "test_normalnosc(log_returns.flatten())"
   ]
  },
  {
   "cell_type": "markdown",
   "id": "intellectual-smart",
   "metadata": {},
   "source": [
    "## Dane rynkowe "
   ]
  },
  {
   "cell_type": "code",
   "execution_count": null,
   "id": "verbal-jackson",
   "metadata": {},
   "outputs": [],
   "source": [
    "liczba_portfeli = 10 ** 5\n",
    "liczba_dni = 252\n",
    "instrumenty_ryzykowne = ['FB', 'TSLA', 'TWTR', 'MSFT']\n",
    "instrumenty_ryzykowne.sort()\n",
    "start = '2018-01-01'\n",
    "koniec = '2018-12-31'\n",
    "n_assets = len(instrumenty_ryzykowne)"
   ]
  },
  {
   "cell_type": "code",
   "execution_count": null,
   "id": "blank-communist",
   "metadata": {},
   "outputs": [],
   "source": [
    "prices_df = yf.download(instrumenty_ryzykowne, start=start,\n",
    "end=koniec, adjusted=True)"
   ]
  },
  {
   "cell_type": "code",
   "execution_count": null,
   "id": "visible-circle",
   "metadata": {},
   "outputs": [],
   "source": [
    "returns_df = prices_df['Adj Close'].pct_change().dropna()\n",
    "avg_returns = returns_df.mean() * N_DAYS\n",
    "cov_mat = returns_df.cov() * N_DAYS"
   ]
  },
  {
   "cell_type": "markdown",
   "id": "broke-timeline",
   "metadata": {},
   "source": [
    "# Optymalizacja portfela"
   ]
  },
  {
   "cell_type": "markdown",
   "id": "wanted-cleaners",
   "metadata": {},
   "source": [
    "**Zadanie 4)** Brzeg efektywny "
   ]
  },
  {
   "cell_type": "markdown",
   "id": "german-elephant",
   "metadata": {},
   "source": [
    "\n"
   ]
  }
 ],
 "metadata": {
  "kernelspec": {
   "display_name": "Python 3",
   "language": "python",
   "name": "python3"
  },
  "language_info": {
   "codemirror_mode": {
    "name": "ipython",
    "version": 3
   },
   "file_extension": ".py",
   "mimetype": "text/x-python",
   "name": "python",
   "nbconvert_exporter": "python",
   "pygments_lexer": "ipython3",
   "version": "3.9.2"
  }
 },
 "nbformat": 4,
 "nbformat_minor": 5
}
